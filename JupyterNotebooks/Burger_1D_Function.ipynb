{
 "cells": [
  {
   "cell_type": "markdown",
   "metadata": {
    "colab_type": "text",
    "id": "view-in-github"
   },
   "source": [
    "<a href=\"https://colab.research.google.com/github/brash99/phys441/blob/master/JupyterNotebooks/TravelingWaveConvection.ipynb\" target=\"_parent\"><img src=\"https://colab.research.google.com/assets/colab-badge.svg\" alt=\"Open In Colab\"/></a>"
   ]
  },
  {
   "cell_type": "markdown",
   "metadata": {},
   "source": [
    "## Diffusion and Convection in 1D\n",
    "\n",
    "### Burger's Equation\n",
    "\n",
    "\\begin{equation}\n",
    "\\frac{\\partial u}{\\partial t} + u\\frac{\\partial u}{\\partial x} - \\nu \\frac{\\partial^2 u}{\\partial x^2} = 0\n",
    "\\end{equation}\n",
    "\n",
    "where $\\nu$ is the viscosity.  As in the previous examples, we use the forward difference for the time derivative, the backward difference for the spatial first derivative, and the central difference for the spatial second derivative.\n",
    "\n",
    "\\begin{equation}\n",
    "\\frac{u_i^{n+1} -  u_i^n}{\\Delta t} + u^n_i \\left( \\frac{u^n_{i} - u^n_{i-1}}{\\Delta x} \\right) - \\nu \\left( \\frac{u^n_{i+1} - 2 u^n_i + u^n_{i-1}}{\\Delta x^2} \\right) = 0\n",
    "\\end{equation}\n",
    "\n",
    "\\begin{equation}\n",
    "u_i^{n+1} =  u_i^n - \\frac{\\Delta t}{\\Delta x} u_i^n \\left( u^n_{i} - u^n_{i-1} \\right) + \\frac{\\nu \\Delta t}{\\Delta x^2} \\left( u^n_{i+1} - 2 u^n_i + u^n_{i-1} \\right)\n",
    "\\end{equation}"
   ]
  },
  {
   "cell_type": "code",
   "execution_count": 1,
   "metadata": {
    "id": "j_o0pie1j61U"
   },
   "outputs": [],
   "source": [
    "# Remember: comments in python are denoted by the pound sign\n",
    "import numpy                            #here we load numpy\n",
    "from matplotlib import pyplot as plt     #here we load matplotlib\n",
    "import time, sys                         #and load some utilities\n",
    "\n",
    "import sympy\n",
    "from sympy import init_printing\n",
    "from sympy.utilities.lambdify import lambdify\n",
    "    \n",
    "from numba import njit, prange"
   ]
  },
  {
   "cell_type": "code",
   "execution_count": 2,
   "metadata": {
    "id": "DsjQi5MfkKHC"
   },
   "outputs": [],
   "source": [
    "#this makes matplotlib plots appear in the notebook (instead of a separate window)\n",
    "%matplotlib inline                  "
   ]
  },
  {
   "cell_type": "code",
   "execution_count": 3,
   "metadata": {},
   "outputs": [],
   "source": [
    "@njit(fastmath=True, cache=True)\n",
    "def loopit(u, nt, nx, dt, dx, viscosity):\n",
    "    for n in range(nt):  #loop for values of n from 0 to nt, so it will run nt times\n",
    "        un = u.copy() ##copy the existing values of u into un\n",
    "        for i in range(1, nx-1):\n",
    "            u[i] = un[i] - dt/dx*un[i]*(un[i]-un[i-1]) + viscosity * dt / dx**2 * (un[i+1] - 2.0*un[i] + un[i-1])\n",
    "        u[0] = un[0] - dt/dx*un[0]*(un[0]-un[-2]) + viscosity * dt / dx**2 * (un[1] - 2.0*un[0] + un[-2])\n",
    "        u[-1] = un[0]       "
   ]
  },
  {
   "cell_type": "code",
   "execution_count": 4,
   "metadata": {},
   "outputs": [],
   "source": [
    "def loopit_fast(u, nt, nx, dt, dx, viscosity):\n",
    "    for n in range(nt):  #loop for values of n from 0 to nt, so it will run nt times\n",
    "        un = u.copy() ##copy the existing values of u into un\n",
    "\n",
    "        u[1:nx-1] = un[1:nx-1] - dt/dx*un[1:nx-1]*(un[1:nx-1]-un[:nx-2]) + viscosity * dt / dx**2 * (un[2:nx] - 2.0*un[1:nx-1] + un[:nx-2])\n",
    "\n",
    "        u[0] = un[0] - dt/dx*un[0]*(un[0]-un[-2]) + viscosity * dt / dx**2 * (un[1] - 2.0*un[0] + un[-2])\n",
    "        u[-1] = un[0]       "
   ]
  },
  {
   "cell_type": "code",
   "execution_count": 10,
   "metadata": {
    "id": "thUmpMTTkPBq"
   },
   "outputs": [],
   "source": [
    "def burger_1d(nt = 427, pulseShapeChoice = 3):\n",
    "\n",
    "    # We define the x-axis to start at x=0.0m and end at x=2*Pi.\n",
    "    # \n",
    "    # We specify the number of steps in x (nx), and the number\n",
    "    # of steps in t (nt), and calculate dx and dt based on these choices.\n",
    "\n",
    "    xrange = 2*numpy.pi\n",
    "    trange = 0.5\n",
    "    nx = 401\n",
    "    dx = xrange / (nx-1)\n",
    "    dt = trange / (nt-1)\n",
    "\n",
    "    viscosity = 0.07\n",
    "    \n",
    "    # Analytical Solution\n",
    "    \n",
    "    #init_printing(use_latex=True)\n",
    "\n",
    "    xa, nu, t = sympy.symbols('xa nu t')\n",
    "    phi = (sympy.exp(-(xa - 4 * t)**2 / (4 * nu * (t + 1))) +\n",
    "           sympy.exp(-(xa - 4 * t - 2 * sympy.pi)**2 / (4 * nu * (t + 1))))\n",
    "\n",
    "    phiprime = phi.diff(xa)\n",
    "\n",
    "\n",
    "    u = -2 * nu * (phiprime / phi) + 4\n",
    "    ufunc = lambdify((t, xa, nu), u)\n",
    "    #print(ufunc(1, 4, 3))\n",
    "\n",
    "    xb = numpy.linspace(0, xrange, nx)\n",
    "    u_analytical = numpy.asarray([ufunc(nt*dt, xa, viscosity) for xa in xb])\n",
    "    \n",
    "    # Set the wavefunction equal to all ones, initially\n",
    "\n",
    "    x = numpy.linspace(0,xrange,nx)\n",
    "\n",
    "    if (pulseShapeChoice == 1):\n",
    "      # Test Case 1: Square Pulse\n",
    "      u = numpy.ones(nx)      #numpy function ones()\n",
    "      u[int((numpy.pi-0.1)/dx):int((numpy.pi+0.1)/dx + 1)] = 2  #setting u = 2 between 0.5 and 1\n",
    "    else: \n",
    "        if (pulseShapeChoice == 2):\n",
    "            # Test Case 2:  Gaussian Pulse\n",
    "            u = numpy.ones(nx)      #numpy function ones()\n",
    "            mu = numpy.pi\n",
    "            sigma = 0.1\n",
    "            for i in range(len(u)):\n",
    "                u[i]=u[i]+numpy.exp(-1.0*(x[i]-mu)**2/sigma**2)\n",
    "        else:\n",
    "            u = numpy.zeros(nx)      #numpy function ones()\n",
    "            for i in range(len(u)):\n",
    "                t1 = numpy.exp(-1.0*x[i]**2/(4.0*viscosity))\n",
    "                t2 = numpy.exp(-1.0*(x[i]-2.0*numpy.pi)**2/(4.0*viscosity))\n",
    "                u[i] = (x[i]*t1+(x[i]-2.0*numpy.pi)*t2)/(t1+t2)+4.0\n",
    "                \n",
    "    plt.plot(x, u, '.-')\n",
    "    #print (\"Integral = \",u.sum()-4.0*len(x))\n",
    "    \n",
    "    plt.plot(x, u, '.-')\n",
    "\n",
    "    loopit(u, nt, nx, dt, dx, viscosity)\n",
    "    \n",
    "    plt.plot(x, u, '.-')\n",
    "    #print (\"Integral = \",u.sum()-4.0*len(x))\n",
    "    if (pulseShapeChoice == 3):\n",
    "        plt.plot(x, u_analytical, label='Analytical')"
   ]
  },
  {
   "cell_type": "code",
   "execution_count": 11,
   "metadata": {},
   "outputs": [
    {
     "name": "stdout",
     "output_type": "stream",
     "text": [
      "18.8 ms ± 21.6 µs per loop (mean ± std. dev. of 7 runs, 100 loops each)\n"
     ]
    },
    {
     "data": {
      "image/png": "[encoded data removed]",
      "text/plain": [
       "<Figure size 432x288 with 1 Axes>"
      ]
     },
     "metadata": {
      "needs_background": "light"
     },
     "output_type": "display_data"
    }
   ],
   "source": [
    "%%timeit\n",
    "burger_1d(500,3)"
   ]
  },
  {
   "cell_type": "code",
   "execution_count": 12,
   "metadata": {
    "id": "hSC2t4s3kTUw"
   },
   "outputs": [],
   "source": [
    "def burger_1d_fast(nt = 427, pulseShapeChoice = 3):\n",
    "\n",
    "    # We define the x-axis to start at x=0.0m and end at x=2*Pi.\n",
    "    # \n",
    "    # We specify the number of steps in x (nx), and the number\n",
    "    # of steps in t (nt), and calculate dx and dt based on these choices.\n",
    "\n",
    "    xrange = 2*numpy.pi\n",
    "    trange = 0.5\n",
    "    nx = 401\n",
    "    dx = xrange / (nx-1)\n",
    "    dt = trange / (nt-1)\n",
    "\n",
    "    viscosity = 0.07\n",
    "    \n",
    "    # Analytical Solution\n",
    "    \n",
    "    #init_printing(use_latex=True)\n",
    "\n",
    "    xa, nu, t = sympy.symbols('xa nu t')\n",
    "    phi = (sympy.exp(-(xa - 4 * t)**2 / (4 * nu * (t + 1))) +\n",
    "           sympy.exp(-(xa - 4 * t - 2 * sympy.pi)**2 / (4 * nu * (t + 1))))\n",
    "\n",
    "    phiprime = phi.diff(xa)\n",
    "\n",
    "\n",
    "    u = -2 * nu * (phiprime / phi) + 4\n",
    "    ufunc = lambdify((t, xa, nu), u)\n",
    "    #print(ufunc(1, 4, 3))\n",
    "\n",
    "    xb = numpy.linspace(0, xrange, nx)\n",
    "    u_analytical = numpy.asarray([ufunc(nt*dt, xa, viscosity) for xa in xb])\n",
    "    \n",
    "    # Set the wavefunction equal to all ones, initially\n",
    "\n",
    "    x = numpy.linspace(0,xrange,nx)\n",
    "\n",
    "    if (pulseShapeChoice == 1):\n",
    "      # Test Case 1: Square Pulse\n",
    "      u = numpy.ones(nx)      #numpy function ones()\n",
    "      u[int((numpy.pi-0.1)/dx):int((numpy.pi+0.1)/dx + 1)] = 2  #setting u = 2 between 0.5 and 1\n",
    "    else: \n",
    "        if (pulseShapeChoice == 2):\n",
    "            # Test Case 2:  Gaussian Pulse\n",
    "            u = numpy.ones(nx)      #numpy function ones()\n",
    "            mu = numpy.pi\n",
    "            sigma = 0.1\n",
    "            for i in range(len(u)):\n",
    "                u[i]=u[i]+numpy.exp(-1.0*(x[i]-mu)**2/sigma**2)\n",
    "        else:\n",
    "            u = numpy.zeros(nx)      #numpy function ones()\n",
    "            for i in range(len(u)):\n",
    "                t1 = numpy.exp(-1.0*x[i]**2/(4.0*viscosity))\n",
    "                t2 = numpy.exp(-1.0*(x[i]-2.0*numpy.pi)**2/(4.0*viscosity))\n",
    "                u[i] = (x[i]*t1+(x[i]-2.0*numpy.pi)*t2)/(t1+t2)+4.0\n",
    "                \n",
    "    plt.plot(x, u, '.-')\n",
    "    #print (\"Integral = \",u.sum()-4.0*len(x))\n",
    "    \n",
    "    plt.plot(x, u, '.-')\n",
    "\n",
    "    loopit_fast(u, nt, nx, dt, dx, viscosity)\n",
    "    \n",
    "    plt.plot(x, u, '.-')\n",
    "    #print (\"Integral = \",u.sum()-4.0*len(x))\n",
    "    if (pulseShapeChoice == 3):\n",
    "        plt.plot(x, u_analytical, label='Analytical')"
   ]
  },
  {
   "cell_type": "code",
   "execution_count": 13,
   "metadata": {
    "colab": {
     "base_uri": "https://localhost:8080/",
     "height": 282
    },
    "id": "DxUL7BDwkZBg",
    "outputId": "3efc7e72-f130-44e9-ccb1-0af35c9bb40a"
   },
   "outputs": [
    {
     "name": "stdout",
     "output_type": "stream",
     "text": [
      "23.7 ms ± 27.9 µs per loop (mean ± std. dev. of 7 runs, 10 loops each)\n"
     ]
    },
    {
     "data": {
      "image/png": "[encoded data removed]",
      "text/plain": [
       "<Figure size 432x288 with 1 Axes>"
      ]
     },
     "metadata": {
      "needs_background": "light"
     },
     "output_type": "display_data"
    }
   ],
   "source": [
    "%%timeit\n",
    "burger_1d_fast(500,3)"
   ]
  },
  {
   "cell_type": "code",
   "execution_count": null,
   "metadata": {
    "id": "nvo0TMCMkheZ"
   },
   "outputs": [],
   "source": []
  },
  {
   "cell_type": "code",
   "execution_count": null,
   "metadata": {},
   "outputs": [],
   "source": []
  },
  {
   "cell_type": "code",
   "execution_count": null,
   "metadata": {},
   "outputs": [],
   "source": []
  },
  {
   "cell_type": "code",
   "execution_count": null,
   "metadata": {},
   "outputs": [],
   "source": []
  }
 ],
 "metadata": {
  "colab": {
   "authorship_tag": "ABX9TyMxCMXptwum57XeQ829fBfV",
   "include_colab_link": true,
   "name": "TravelingWaveConvection.ipynb",
   "provenance": []
  },
  "kernelspec": {
   "display_name": "Python 3",
   "language": "python",
   "name": "python3"
  },
  "language_info": {
   "codemirror_mode": {
    "name": "ipython",
    "version": 3
   },
   "file_extension": ".py",
   "mimetype": "text/x-python",
   "name": "python",
   "nbconvert_exporter": "python",
   "pygments_lexer": "ipython3",
   "version": "3.8.5"
  }
 },
 "nbformat": 4,
 "nbformat_minor": 1
}
