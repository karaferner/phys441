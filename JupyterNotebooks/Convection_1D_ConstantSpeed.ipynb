{
 "cells": [
  {
   "cell_type": "markdown",
   "metadata": {
    "colab_type": "text",
    "id": "view-in-github"
   },
   "source": [
    "<a href=\"https://colab.research.google.com/github/brash99/phys441/blob/master/TravelingWave.ipynb\" target=\"_parent\"><img src=\"https://colab.research.google.com/assets/colab-badge.svg\" alt=\"Open In Colab\"/></a>"
   ]
  },
  {
   "cell_type": "markdown",
   "metadata": {},
   "source": [
    "## Convection in 1D\n",
    "\n",
    "### Difference Approximations of First Order Derivatives\n",
    "\n",
    "\\begin{eqnarray}\n",
    "u_{i+1} & = & u_i + \\Delta x \\frac{\\partial u}{\\partial x} \\bigg|_i + \\frac{\\Delta x^2}{2} \\frac{\\partial^2 u}{\\partial x^2} \\bigg|_i + \\frac{\\Delta x^3}{6} \\frac{\\partial^3 u}{\\partial x^3} \\bigg|_i + \\frac{\\Delta x^4}{24} \\frac{\\partial^4 u}{\\partial x^4} \\bigg|_ih.o.t \\\\ \n",
    "u_{i-1} & = & u_i - \\Delta x \\frac{\\partial u}{\\partial x} \\bigg|_i + \\frac{\\Delta x^2}{2} \\frac{\\partial^2 u}{\\partial x^2} \\bigg|_i - \\frac{\\Delta x^3}{6} \\frac{\\partial^3 u}{\\partial x^3} \\bigg|_i + \\frac{\\Delta x^4}{24} \\frac{\\partial^4 u}{\\partial x^4} \\bigg|_i h.o.t \\\\\n",
    "\\end{eqnarray}\n",
    "\n",
    "#### Forward Difference Scheme:\n",
    "\\begin{equation}\n",
    "\\frac{\\partial u}{\\partial x}  =  \\frac{u_{i+1} - u_i}{\\Delta x} + \\frac{\\Delta x}{2}\\frac{\\partial^2 u}{\\partial x^2} + h.o.t \\\\ \n",
    "\\end{equation}\n",
    "#### Backward Difference Scheme:\n",
    "\\begin{equation}\n",
    "\\frac{\\partial u}{\\partial x}  =  \\frac{u_{i} - u_{i-1}}{\\Delta x} - \\frac{\\Delta x}{2}\\frac{\\partial^2 u}{\\partial x^2} + h.o.t \\\\ \n",
    "\\end{equation}\n",
    "#### Central Difference Scheme:\n",
    "\\begin{equation}\n",
    "\\frac{\\partial u}{\\partial x}  =  \\frac{u_{i+1} - u_{i-1}}{2 \\Delta x} - \\frac{\\Delta x^2}{6}\\frac{\\partial^3 u}{\\partial x^3} + h.o.t \\\\ \n",
    "\\end{equation}\n",
    "\n",
    "\n",
    "### The 1D Convection Equation with Constant Wave Speed\n",
    "\n",
    "\\begin{equation}\n",
    "\\frac{\\partial u}{\\partial t} - c \\frac{\\partial u}{\\partial x} = 0\n",
    "\\end{equation}\n",
    "\n",
    "where $c$ is the speed of travel of the wave.  We begin by using the forward difference for the time derivative, and the backward difference approximation for the first order spatial derivative.  Why is this so?  Well, time moves $forward$, and so using the forward difference makes sense for the time derivative.  Using the backward difference approximation for the spatial derivative has some interesting consequences, which is what we are investigating here.\n",
    "\n",
    "\\begin{equation}\n",
    "\\frac{u_i^{n+1} -  u_i^n}{\\Delta t} - c \\left( \\frac{u^n_{i} - u^n_{i-1}}{\\Delta x} \\right) = 0\n",
    "\\end{equation}\n",
    "\n",
    "\\begin{equation}\n",
    "u_i^{n+1} =  u_i^n + \\frac{c \\Delta t}{\\Delta x} \\left( u^n_{i} - u^n_{i-1} \\right)\n",
    "\\end{equation}"
   ]
  },
  {
   "cell_type": "code",
<<<<<<< HEAD
   "execution_count": 60,
=======
   "execution_count": 1,
>>>>>>> upstream/master
   "metadata": {
    "id": "j_o0pie1j61U"
   },
   "outputs": [],
   "source": [
    "# Remember: comments in python are denoted by the pound sign\n",
    "import numpy as np                            #here we load numpy\n",
    "from matplotlib import pyplot as plt     #here we load matplotlib                         #and load some utilities"
   ]
  },
  {
   "cell_type": "code",
<<<<<<< HEAD
   "execution_count": 61,
=======
   "execution_count": 2,
>>>>>>> upstream/master
   "metadata": {
    "id": "DsjQi5MfkKHC"
   },
   "outputs": [],
   "source": [
    "#this makes matplotlib plots appear in the notebook (instead of a separate window)\n",
    "%matplotlib inline                  "
   ]
  },
  {
   "cell_type": "code",
<<<<<<< HEAD
   "execution_count": 72,
=======
   "execution_count": 3,
>>>>>>> upstream/master
   "metadata": {
    "colab": {
     "base_uri": "https://localhost:8080/"
    },
    "id": "thUmpMTTkPBq",
    "outputId": "39f53e1e-b9be-459d-ad11-89d6e5860923"
   },
   "outputs": [
    {
     "name": "stdout",
     "output_type": "stream",
     "text": [
      "Stability criterion =  0.15625\n"
     ]
    }
   ],
   "source": [
    "# Consider a wave traveling to the right at 25 m/s.  We will consider the\n",
    "# situation of the wave traveling from x=0.75m to x=16.375m.  This will take\n",
    "# 0.625 seconds.  \n",
    "#\n",
    "# We define the x-axis to start at x=0.0m and end at x=20.0m.\n",
    "# \n",
    "# We specify the number of steps in x (nx), and the number\n",
    "# of steps in t (nt), and calculate dx and dt based on these choices.\n",
    "#\n",
    "# The crucial quantity is c*dt/dx, which must be less than or equal to 1\n",
    "# in order to have any stable solution, and must be exactly equal to 1 for\n",
    "# the correct (shape-conserving) solution.\n",
    "\n",
    "xrange = 20.0\n",
    "trange = 0.625\n",
    "nx = 401  \n",
    "dx = xrange / (nx-1)\n",
    "nt = 2001    #nt is the number of timesteps we want to calculate\n",
    "dt = trange/ (nt-1)  #dt is the amount of time each timestep covers (delta t)\n",
    "c = 25      #assume wavespeed of c = 25 m/s\n",
    "\n",
    "x = np.linspace(0,xrange,nx)\n",
    "\n",
    "print (\"Stability criterion = \",c*dt/dx)"
   ]
  },
  {
   "cell_type": "code",
<<<<<<< HEAD
   "execution_count": 73,
=======
   "execution_count": 4,
>>>>>>> upstream/master
   "metadata": {
    "id": "hSC2t4s3kTUw"
   },
   "outputs": [],
   "source": [
    "# Set the wavefunction equal to all ones, initially\n",
    "u = np.ones(nx)      #numpy function ones()\n",
    "\n",
    "# Test Case 1: Square Pulse\n",
    "u[int(.5 / dx):int(1 / dx + 1)] = 2  #setting u = 2 between 0.5 and 1\n",
    "u[int(1 / dx):int(1.5 / dx + 1)] = 0  #setting u = 0 between 1 and 1.5\n",
    "\n",
    "# Test Case 2:  Gaussian Pulse\n",
    "#mu = 0.75\n",
    "#sigma = 0.25\n",
    "#for i in range(len(u)):\n",
    "#  u[i]=u[i]+np.exp(-1.0*(x[i]-mu)**2/sigma**2)\n"
   ]
  },
  {
   "cell_type": "code",
<<<<<<< HEAD
   "execution_count": 74,
=======
   "execution_count": 5,
>>>>>>> upstream/master
   "metadata": {
    "colab": {
     "base_uri": "https://localhost:8080/",
     "height": 265
    },
    "id": "DxUL7BDwkZBg",
    "outputId": "eaf85d68-2fc9-47ca-ce35-92c42a9279c8"
   },
   "outputs": [
    {
     "data": {
      "image/png": "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\n",
      "text/plain": [
       "<Figure size 432x288 with 1 Axes>"
      ]
     },
     "metadata": {
      "needs_background": "light"
     },
     "output_type": "display_data"
    }
   ],
   "source": [
    "plt.plot(x, u);"
   ]
  },
  {
   "cell_type": "code",
<<<<<<< HEAD
   "execution_count": 75,
=======
   "execution_count": 6,
>>>>>>> upstream/master
   "metadata": {
    "id": "nvo0TMCMkheZ"
   },
   "outputs": [],
   "source": [
    "un = np.ones(nx) #initialize a temporary array\n",
    "\n",
    "for n in range(nt):  #loop for values of n from 0 to nt, so it will run nt times\n",
    "    un = u.copy() ##copy the existing values of u into un\n",
    "    for i in range(1, nx): ## you can try commenting this line and...\n",
    "    #for i in range(nx): ## ... uncommenting this line and see what happens!\n",
    "        u[i] = un[i] - c * dt / dx * (un[i] - un[i-1])"
   ]
  },
  {
   "cell_type": "code",
<<<<<<< HEAD
   "execution_count": 76,
=======
   "execution_count": 7,
>>>>>>> upstream/master
   "metadata": {
    "colab": {
     "base_uri": "https://localhost:8080/",
     "height": 265
    },
    "id": "MQ0dgbPmkjeN",
    "outputId": "8486bc26-03b5-4923-b66b-ef9feb4327f8"
   },
   "outputs": [
    {
     "data": {
      "image/png": "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\n",
      "text/plain": [
       "<Figure size 432x288 with 1 Axes>"
      ]
     },
     "metadata": {
      "needs_background": "light"
     },
     "output_type": "display_data"
    }
   ],
   "source": [
    "plt.plot(x, u);"
   ]
  },
  {
   "cell_type": "code",
<<<<<<< HEAD
   "execution_count": 51,
=======
   "execution_count": 11,
>>>>>>> upstream/master
   "metadata": {
    "colab": {
     "base_uri": "https://localhost:8080/",
     "height": 298
    },
    "id": "Z0xe0waXuN_5",
    "outputId": "3464daa6-3a09-478b-eb9c-4c6f68a15f1b"
   },
   "outputs": [
    {
     "name": "stdout",
     "output_type": "stream",
     "text": [
      "Stability criterion =  1.0\n",
      "nt_min =  3101.0\n"
     ]
    },
    {
     "data": {
      "text/plain": [
<<<<<<< HEAD
       "[<matplotlib.lines.Line2D at 0x7f94747a51c0>]"
      ]
     },
     "execution_count": 51,
=======
       "[<matplotlib.lines.Line2D at 0x7f128624b2b0>]"
      ]
     },
     "execution_count": 11,
>>>>>>> upstream/master
     "metadata": {},
     "output_type": "execute_result"
    },
    {
     "data": {
<<<<<<< HEAD
      "image/png": "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\n",
=======
      "image/png": "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\n",
>>>>>>> upstream/master
      "text/plain": [
       "<Figure size 432x288 with 1 Axes>"
      ]
     },
     "metadata": {
      "needs_background": "light"
     },
     "output_type": "display_data"
    }
   ],
   "source": [
    "xrange = 20.0\n",
    "trange = 0.620\n",
    "nx = 401  # try changing this number from 41 to 81 and Run All ... what happens?\n",
    "dx = xrange / (nx-1)\n",
    "nt = 311    #nt is the number of timesteps we want to calculate\n",
    "dt = trange/ (nt-1)  #dt is the amount of time each timestep covers (delta t)\n",
    "c = 25      #assume wavespeed of c = 25 m/s\n",
    "\n",
    "print (\"Stability criterion = \",c*dt/dx)\n",
    "print (\"nt_min = \",c*trange/xrange*(nx-1)+1)\n",
    "\n",
    "u = np.ones(nx)      #numpy function ones()\n",
    "x = np.linspace(0, xrange, nx)\n",
    "\n",
    "# Test Case 1: Square Puls\n",
    "u[int(.5 / dx):int(1 / dx + 1)] = 2  #setting u = 2 between 0.5 and 1 as per our I.C.s\n",
    "u[int(1 / dx):int(1.5 / dx + 1)] = 0  #setting u = 0 between 1 and 1.5 as per our I.C.s\n",
    "\n",
    "# Test Case 2:  Gaussian Pulse\n",
    "#mu = 0.75\n",
    "#sigma = 0.25\n",
    "#for i in range(len(u)):\n",
    "#  u[i]=u[i]+np.exp(-1.0*(x[i]-mu)**2/sigma**2)\n",
    "\n",
    "plt.plot(x, u);\n",
    "\n",
    "un = np.ones(nx) #initialize a temporary array\n",
    "\n",
    "for n in range(nt):  #loop for values of n from 0 to nt, so it will run nt times\n",
    "    un = u.copy() ##copy the existing values of u into un\n",
    "    for i in range(1, nx): ## you can try commenting this line and...\n",
    "        u[i] = un[i] - c * dt / dx * (un[i] - un[i-1])\n",
    "\n",
    "plt.plot(x, u)"
   ]
  },
  {
   "cell_type": "code",
   "execution_count": 53,
   "metadata": {
    "colab": {
     "base_uri": "https://localhost:8080/",
     "height": 298
    },
    "id": "e3jFHnvZb2e6",
    "outputId": "e7ec7804-4945-4cc7-912d-fde5f0c7db6a"
   },
   "outputs": [
    {
     "name": "stdout",
     "output_type": "stream",
     "text": [
      "Stability criterion =  1.0\n",
      "nt_min =  311.0\n"
     ]
    },
    {
     "data": {
<<<<<<< HEAD
      "text/plain": [
       "[<matplotlib.lines.Line2D at 0x7f9474960bb0>]"
      ]
     },
     "execution_count": 53,
     "metadata": {},
     "output_type": "execute_result"
    },
    {
     "data": {
      "image/png": "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\n",
=======
      "image/png": "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\n",
>>>>>>> upstream/master
      "text/plain": [
       "<Figure size 432x288 with 1 Axes>"
      ]
     },
     "metadata": {
      "needs_background": "light"
     },
     "output_type": "display_data"
    }
   ],
   "source": [
    "xrange = 20.0\n",
    "trange = 0.620\n",
    "nx = 401  # try changing this number from 41 to 81 and Run All ... what happens?\n",
    "dx = xrange / (nx-1)\n",
    "nt = 311    #nt is the number of timesteps we want to calculate\n",
    "dt = trange/ (nt-1)  #dt is the amount of time each timestep covers (delta t)\n",
    "c = 25      #assume wavespeed of c = 25 m/s\n",
    "\n",
    "print (\"Stability criterion = \",c*dt/dx)\n",
    "print (\"nt_min = \",c*trange/xrange*(nx-1)+1)\n",
    "\n",
    "u = np.ones(nx)      #numpy function ones()\n",
    "x = np.linspace(0, xrange, nx)\n",
    "\n",
    "# Test Case 1: Square Puls\n",
    "u[int(.5 / dx):int(1 / dx + 1)] = 2  #setting u = 2 between 0.5 and 1 as per our I.C.s\n",
    "u[int(1 / dx):int(1.5 / dx + 1)] = 0  #setting u = 0 between 1 and 1.5 as per our I.C.s\n",
    "\n",
    "# Test Case 2:  Gaussian Pulse\n",
    "#mu = 0.75\n",
    "#sigma = 0.25\n",
    "#for i in range(len(u)):\n",
    "#  u[i]=u[i]+np.exp(-1.0*(x[i]-mu)**2/sigma**2)\n",
    "\n",
    "plt.plot(x, u);\n",
    "\n",
    "un = np.ones(nx) #initialize a temporary array\n",
    "\n",
    "for ntt in range(nt,nt+41,10):\n",
    "    \n",
    "    u[int(.5 / dx):int(1 / dx + 1)] = 2  #setting u = 2 between 0.5 and 1 as per our I.C.s\n",
    "    u[int(1 / dx):int(1.5 / dx + 1)] = 0  #setting u = 0 between 1 and 1.5 as per our I.C.s\n",
    "    \n",
    "    for n in range(ntt):  #loop for values of n from 0 to nt, so it will run nt times\n",
    "        dt = trange/ (ntt-1)\n",
    "        un = u.copy() ##copy the existing values of u into un\n",
    "        for i in range(1, nx): ## you can try commenting this line and...\n",
    "            u[i] = un[i] - c * dt / dx * (un[i] - un[i-1])\n",
    "\n",
    "    plt.plot(x, u)"
   ]
  },
  {
   "cell_type": "code",
<<<<<<< HEAD
   "execution_count": 54,
=======
   "execution_count": 14,
>>>>>>> upstream/master
   "metadata": {
    "colab": {
     "base_uri": "https://localhost:8080/",
     "height": 298
    },
    "id": "V8261kZ96I6b",
    "outputId": "00ae9081-ef84-4dce-db68-b17dea99fed2"
   },
   "outputs": [
    {
     "name": "stdout",
     "output_type": "stream",
     "text": [
      "Stability criterion =  1.0\n",
      "nt_min =  156.0\n"
     ]
    },
    {
     "data": {
      "text/plain": [
<<<<<<< HEAD
       "[<matplotlib.lines.Line2D at 0x7f94749e4f40>]"
      ]
     },
     "execution_count": 54,
=======
       "[<matplotlib.lines.Line2D at 0x7f12861526d8>]"
      ]
     },
     "execution_count": 14,
>>>>>>> upstream/master
     "metadata": {},
     "output_type": "execute_result"
    },
    {
     "data": {
<<<<<<< HEAD
      "image/png": "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\n",
=======
      "image/png": "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\n",
>>>>>>> upstream/master
      "text/plain": [
       "<Figure size 432x288 with 1 Axes>"
      ]
     },
     "metadata": {
      "needs_background": "light"
     },
     "output_type": "display_data"
    }
   ],
   "source": [
    "xrange = 20.0\n",
    "trange = 0.620\n",
    "nx = 401  # try changing this number from 41 to 81 and Run All ... what happens?\n",
    "dx = xrange / (nx-1)\n",
    "nt = 156    #nt is the number of timesteps we want to calculate\n",
    "dt = trange/ (nt-1)  #dt is the amount of time each timestep covers (delta t)\n",
    "c = 25    #assume wavespeed of c = 25 m/s\n",
    "\n",
    "print (\"Stability criterion = \",c*dt/(2.0*dx))\n",
    "print (\"nt_min = \",c*trange/(2*xrange)*(nx-1)+1)\n",
    "\n",
    "u = np.ones(nx)      #numpy function ones()\n",
    "x = np.linspace(0, xrange, nx)\n",
    "\n",
    "# Test Case 1: Square Puls\n",
    "#u[int(.5 / dx):int(1 / dx + 1)] = 2  #setting u = 2 between 0.5 and 1 as per our I.C.s\n",
    "#u[int(1 / dx):int(1.5 / dx + 1)] = 0  #setting u = 0 between 1 and 1.5 as per our I.C.s\n",
    "\n",
    "# Test Case 2:  Gaussian Pulse\n",
    "mu = 0.75\n",
    "sigma = 0.25\n",
    "for i in range(len(u)):\n",
    "    u[i]=u[i]+np.exp(-1.0*(x[i]-mu)**2/sigma**2)\n",
    "\n",
    "plt.plot(x, u);\n",
    "\n",
    "un = np.ones(nx) #initialize a temporary array\n",
    "\n",
    "for n in range(nt):  #loop for values of n from 0 to nt, so it will run nt times\n",
    "    un = u.copy() ##copy the existing values of u into un\n",
    "    for i in range(1, nx-1): ## you can try commenting this line and...\n",
    "        u[i] = un[i] - c * dt / (2.0*dx) * (un[i+1] - un[i-1])\n",
    "\n",
    "plt.plot(x, u)"
   ]
  },
  {
   "cell_type": "code",
   "execution_count": null,
   "metadata": {},
   "outputs": [],
   "source": []
  }
 ],
 "metadata": {
  "colab": {
   "authorship_tag": "ABX9TyNt+F0c6h2szZWyIC0DwlmJ",
   "include_colab_link": true,
   "name": "TravelingWave.ipynb",
   "provenance": []
  },
  "kernelspec": {
   "display_name": "Python 3",
   "language": "python",
   "name": "python3"
  },
  "language_info": {
   "codemirror_mode": {
    "name": "ipython",
    "version": 3
   },
   "file_extension": ".py",
   "mimetype": "text/x-python",
   "name": "python",
   "nbconvert_exporter": "python",
   "pygments_lexer": "ipython3",
   "version": "3.8.5"
  }
 },
 "nbformat": 4,
 "nbformat_minor": 1
}
