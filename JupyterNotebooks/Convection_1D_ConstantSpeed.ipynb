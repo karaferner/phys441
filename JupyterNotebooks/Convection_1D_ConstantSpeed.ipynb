{
 "cells": [
  {
   "cell_type": "markdown",
   "metadata": {
    "colab_type": "text",
    "id": "view-in-github"
   },
   "source": [
    "<a href=\"https://colab.research.google.com/github/brash99/phys441/blob/master/TravelingWave.ipynb\" target=\"_parent\"><img src=\"https://colab.research.google.com/assets/colab-badge.svg\" alt=\"Open In Colab\"/></a>"
   ]
  },
  {
   "cell_type": "markdown",
   "metadata": {},
   "source": [
    "## Convection in 1D\n",
    "\n",
    "### Difference Approximations of First Order Derivatives\n",
    "\n",
    "\\begin{eqnarray}\n",
    "u_{i+1} & = & u_i + \\Delta x \\frac{\\partial u}{\\partial x} \\bigg|_i + \\frac{\\Delta x^2}{2} \\frac{\\partial^2 u}{\\partial x^2} \\bigg|_i + \\frac{\\Delta x^3}{6} \\frac{\\partial^3 u}{\\partial x^3} \\bigg|_i + \\frac{\\Delta x^4}{24} \\frac{\\partial^4 u}{\\partial x^4} \\bigg|_ih.o.t \\\\ \n",
    "u_{i-1} & = & u_i - \\Delta x \\frac{\\partial u}{\\partial x} \\bigg|_i + \\frac{\\Delta x^2}{2} \\frac{\\partial^2 u}{\\partial x^2} \\bigg|_i - \\frac{\\Delta x^3}{6} \\frac{\\partial^3 u}{\\partial x^3} \\bigg|_i + \\frac{\\Delta x^4}{24} \\frac{\\partial^4 u}{\\partial x^4} \\bigg|_i h.o.t \\\\\n",
    "\\end{eqnarray}\n",
    "\n",
    "#### Forward Difference Scheme:\n",
    "\\begin{equation}\n",
    "\\frac{\\partial u}{\\partial x}  =  \\frac{u_{i+1} - u_i}{\\Delta x} + \\frac{\\Delta x}{2}\\frac{\\partial^2 u}{\\partial x^2} + h.o.t \\\\ \n",
    "\\end{equation}\n",
    "#### Backward Difference Scheme:\n",
    "\\begin{equation}\n",
    "\\frac{\\partial u}{\\partial x}  =  \\frac{u_{i} - u_{i-1}}{\\Delta x} - \\frac{\\Delta x}{2}\\frac{\\partial^2 u}{\\partial x^2} + h.o.t \\\\ \n",
    "\\end{equation}\n",
    "#### Central Difference Scheme:\n",
    "\\begin{equation}\n",
    "\\frac{\\partial u}{\\partial x}  =  \\frac{u_{i+1} - u_{i-1}}{2 \\Delta x} - \\frac{\\Delta x^2}{6}\\frac{\\partial^3 u}{\\partial x^3} + h.o.t \\\\ \n",
    "\\end{equation}\n",
    "\n",
    "\n",
    "### The 1D Convection Equation with Constant Wave Speed\n",
    "\n",
    "\\begin{equation}\n",
    "\\frac{\\partial u}{\\partial t} - c \\frac{\\partial u}{\\partial x} = 0\n",
    "\\end{equation}\n",
    "\n",
    "where $c$ is the speed of travel of the wave.  We begin by using the forward difference for the time derivative, and the backward difference approximation for the first order spatial derivative.  Why is this so?  Well, time moves $forward$, and so using the forward difference makes sense for the time derivative.  Using the backward difference approximation for the spatial derivative has some interesting consequences, which is what we are investigating here.\n",
    "\n",
    "\\begin{equation}\n",
    "\\frac{u_i^{n+1} -  u_i^n}{\\Delta t} - c \\left( \\frac{u^n_{i} - u^n_{i-1}}{\\Delta x} \\right) = 0\n",
    "\\end{equation}\n",
    "\n",
    "\\begin{equation}\n",
    "u_i^{n+1} =  u_i^n + \\frac{c \\Delta t}{\\Delta x} \\left( u^n_{i} - u^n_{i-1} \\right)\n",
    "\\end{equation}"
   ]
  },
  {
   "cell_type": "code",
   "execution_count": 1,
   "metadata": {
    "id": "j_o0pie1j61U"
   },
   "outputs": [],
   "source": [
    "# Remember: comments in python are denoted by the pound sign\n",
    "import numpy as np                            #here we load numpy\n",
    "from matplotlib import pyplot as plt     #here we load matplotlib                         #and load some utilities"
   ]
  },
  {
   "cell_type": "code",
   "execution_count": 2,
   "metadata": {
    "id": "DsjQi5MfkKHC"
   },
   "outputs": [],
   "source": [
    "#this makes matplotlib plots appear in the notebook (instead of a separate window)\n",
    "%matplotlib inline                  "
   ]
  },
  {
   "cell_type": "code",
   "execution_count": 3,
   "metadata": {
    "colab": {
     "base_uri": "https://localhost:8080/"
    },
    "id": "thUmpMTTkPBq",
    "outputId": "39f53e1e-b9be-459d-ad11-89d6e5860923"
   },
   "outputs": [
    {
     "name": "stdout",
     "output_type": "stream",
     "text": [
      "Stability criterion =  0.15625\n"
     ]
    }
   ],
   "source": [
    "# Consider a wave traveling to the right at 25 m/s.  We will consider the\n",
    "# situation of the wave traveling from x=0.75m to x=16.375m.  This will take\n",
    "# 0.625 seconds.  \n",
    "#\n",
    "# We define the x-axis to start at x=0.0m and end at x=20.0m.\n",
    "# \n",
    "# We specify the number of steps in x (nx), and the number\n",
    "# of steps in t (nt), and calculate dx and dt based on these choices.\n",
    "#\n",
    "# The crucial quantity is c*dt/dx, which must be less than or equal to 1\n",
    "# in order to have any stable solution, and must be exactly equal to 1 for\n",
    "# the correct (shape-conserving) solution.\n",
    "\n",
    "xrange = 20.0\n",
    "trange = 0.625\n",
    "nx = 401  \n",
    "dx = xrange / (nx-1)\n",
    "nt = 2001    #nt is the number of timesteps we want to calculate\n",
    "dt = trange/ (nt-1)  #dt is the amount of time each timestep covers (delta t)\n",
    "c = 25      #assume wavespeed of c = 25 m/s\n",
    "\n",
    "x = np.linspace(0,xrange,nx)\n",
    "\n",
    "print (\"Stability criterion = \",c*dt/dx)"
   ]
  },
  {
   "cell_type": "code",
   "execution_count": 4,
   "metadata": {
    "id": "hSC2t4s3kTUw"
   },
   "outputs": [],
   "source": [
    "# Set the wavefunction equal to all ones, initially\n",
    "u = np.ones(nx)      #numpy function ones()\n",
    "\n",
    "# Test Case 1: Square Pulse\n",
    "u[int(.5 / dx):int(1 / dx + 1)] = 2  #setting u = 2 between 0.5 and 1\n",
    "u[int(1 / dx):int(1.5 / dx + 1)] = 0  #setting u = 0 between 1 and 1.5\n",
    "\n",
    "# Test Case 2:  Gaussian Pulse\n",
    "#mu = 0.75\n",
    "#sigma = 0.25\n",
    "#for i in range(len(u)):\n",
    "#  u[i]=u[i]+np.exp(-1.0*(x[i]-mu)**2/sigma**2)\n"
   ]
  },
  {
   "cell_type": "code",
   "execution_count": 5,
   "metadata": {
    "colab": {
     "base_uri": "https://localhost:8080/",
     "height": 265
    },
    "id": "DxUL7BDwkZBg",
    "outputId": "eaf85d68-2fc9-47ca-ce35-92c42a9279c8"
   },
   "outputs": [
    {
     "data": {
      "image/png": "[encoded data removed]",
      "text/plain": [
       "<Figure size 432x288 with 1 Axes>"
      ]
     },
     "metadata": {
      "needs_background": "light"
     },
     "output_type": "display_data"
    }
   ],
   "source": [
    "plt.plot(x, u);"
   ]
  },
  {
   "cell_type": "code",
   "execution_count": 6,
   "metadata": {
    "id": "nvo0TMCMkheZ"
   },
   "outputs": [],
   "source": [
    "un = np.ones(nx) #initialize a temporary array\n",
    "\n",
    "for n in range(nt):  #loop for values of n from 0 to nt, so it will run nt times\n",
    "    un = u.copy() ##copy the existing values of u into un\n",
    "    for i in range(1, nx): ## you can try commenting this line and...\n",
    "    #for i in range(nx): ## ... uncommenting this line and see what happens!\n",
    "        u[i] = un[i] - c * dt / dx * (un[i] - un[i-1])"
   ]
  },
  {
   "cell_type": "code",
   "execution_count": 7,
   "metadata": {
    "colab": {
     "base_uri": "https://localhost:8080/",
     "height": 265
    },
    "id": "MQ0dgbPmkjeN",
    "outputId": "8486bc26-03b5-4923-b66b-ef9feb4327f8"
   },
   "outputs": [
    {
     "data": {
      "image/png": "[encoded data removed]",
      "text/plain": [
       "<Figure size 432x288 with 1 Axes>"
      ]
     },
     "metadata": {
      "needs_background": "light"
     },
     "output_type": "display_data"
    }
   ],
   "source": [
    "plt.plot(x, u);"
   ]
  },
  {
   "cell_type": "code",
   "execution_count": 11,
   "metadata": {
    "colab": {
     "base_uri": "https://localhost:8080/",
     "height": 298
    },
    "id": "Z0xe0waXuN_5",
    "outputId": "3464daa6-3a09-478b-eb9c-4c6f68a15f1b"
   },
   "outputs": [
    {
     "name": "stdout",
     "output_type": "stream",
     "text": [
      "Stability criterion =  1.0\n",
      "nt_min =  3101.0\n"
     ]
    },
    {
     "data": {
      "text/plain": [
       "[<matplotlib.lines.Line2D at 0x7f128624b2b0>]"
      ]
     },
     "execution_count": 11,
     "metadata": {},
     "output_type": "execute_result"
    },
    {
     "data": {
      "image/png": "[encoded data removed]",
      "text/plain": [
       "<Figure size 432x288 with 1 Axes>"
      ]
     },
     "metadata": {
      "needs_background": "light"
     },
     "output_type": "display_data"
    }
   ],
   "source": [
    "xrange = 20.0\n",
    "trange = 0.620\n",
    "nx = 401  # try changing this number from 41 to 81 and Run All ... what happens?\n",
    "dx = xrange / (nx-1)\n",
    "nt = 311    #nt is the number of timesteps we want to calculate\n",
    "dt = trange/ (nt-1)  #dt is the amount of time each timestep covers (delta t)\n",
    "c = 25      #assume wavespeed of c = 25 m/s\n",
    "\n",
    "print (\"Stability criterion = \",c*dt/dx)\n",
    "print (\"nt_min = \",c*trange/xrange*(nx-1)+1)\n",
    "\n",
    "u = np.ones(nx)      #numpy function ones()\n",
    "x = np.linspace(0, xrange, nx)\n",
    "\n",
    "# Test Case 1: Square Puls\n",
    "u[int(.5 / dx):int(1 / dx + 1)] = 2  #setting u = 2 between 0.5 and 1 as per our I.C.s\n",
    "u[int(1 / dx):int(1.5 / dx + 1)] = 0  #setting u = 0 between 1 and 1.5 as per our I.C.s\n",
    "\n",
    "# Test Case 2:  Gaussian Pulse\n",
    "#mu = 0.75\n",
    "#sigma = 0.25\n",
    "#for i in range(len(u)):\n",
    "#  u[i]=u[i]+np.exp(-1.0*(x[i]-mu)**2/sigma**2)\n",
    "\n",
    "plt.plot(x, u);\n",
    "\n",
    "un = np.ones(nx) #initialize a temporary array\n",
    "\n",
    "for n in range(nt):  #loop for values of n from 0 to nt, so it will run nt times\n",
    "    un = u.copy() ##copy the existing values of u into un\n",
    "    for i in range(1, nx): ## you can try commenting this line and...\n",
    "        u[i] = un[i] - c * dt / dx * (un[i] - un[i-1])\n",
    "\n",
    "plt.plot(x, u)"
   ]
  },
  {
   "cell_type": "code",
   "execution_count": 9,
   "metadata": {
    "colab": {
     "base_uri": "https://localhost:8080/",
     "height": 298
    },
    "id": "e3jFHnvZb2e6",
    "outputId": "e7ec7804-4945-4cc7-912d-fde5f0c7db6a"
   },
   "outputs": [
    {
     "name": "stdout",
     "output_type": "stream",
     "text": [
      "Stability criterion =  1.0\n",
      "nt_min =  311.0\n"
     ]
    },
    {
     "data": {
      "image/png": "[encoded data removed]",
      "text/plain": [
       "<Figure size 432x288 with 1 Axes>"
      ]
     },
     "metadata": {
      "needs_background": "light"
     },
     "output_type": "display_data"
    }
   ],
   "source": [
    "xrange = 20.0\n",
    "trange = 0.620\n",
    "nx = 401  # try changing this number from 41 to 81 and Run All ... what happens?\n",
    "dx = xrange / (nx-1)\n",
    "nt = 311    #nt is the number of timesteps we want to calculate\n",
    "dt = trange/ (nt-1)  #dt is the amount of time each timestep covers (delta t)\n",
    "c = 25      #assume wavespeed of c = 25 m/s\n",
    "\n",
    "print (\"Stability criterion = \",c*dt/dx)\n",
    "print (\"nt_min = \",c*trange/xrange*(nx-1)+1)\n",
    "\n",
    "u = np.ones(nx)      #numpy function ones()\n",
    "x = np.linspace(0, xrange, nx)\n",
    "\n",
    "# Test Case 1: Square Puls\n",
    "u[int(.5 / dx):int(1 / dx + 1)] = 2  #setting u = 2 between 0.5 and 1 as per our I.C.s\n",
    "u[int(1 / dx):int(1.5 / dx + 1)] = 0  #setting u = 0 between 1 and 1.5 as per our I.C.s\n",
    "\n",
    "# Test Case 2:  Gaussian Pulse\n",
    "#mu = 0.75\n",
    "#sigma = 0.25\n",
    "#for i in range(len(u)):\n",
    "#  u[i]=u[i]+np.exp(-1.0*(x[i]-mu)**2/sigma**2)\n",
    "\n",
    "plt.plot(x, u);\n",
    "\n",
    "un = np.ones(nx) #initialize a temporary array\n",
    "\n",
    "for ntt in range(nt,nt+41,10):\n",
    "    \n",
    "    u[int(.5 / dx):int(1 / dx + 1)] = 2  #setting u = 2 between 0.5 and 1 as per our I.C.s\n",
    "    u[int(1 / dx):int(1.5 / dx + 1)] = 0  #setting u = 0 between 1 and 1.5 as per our I.C.s\n",
    "    \n",
    "    for n in range(ntt):  #loop for values of n from 0 to nt, so it will run nt times\n",
    "        dt = trange/ (ntt-1)\n",
    "        un = u.copy() ##copy the existing values of u into un\n",
    "        for i in range(1, nx): ## you can try commenting this line and...\n",
    "            u[i] = un[i] - c * dt / dx * (un[i] - un[i-1])\n",
    "\n",
    "    plt.plot(x, u)"
   ]
  },
  {
   "cell_type": "code",
   "execution_count": 14,
   "metadata": {
    "colab": {
     "base_uri": "https://localhost:8080/",
     "height": 298
    },
    "id": "V8261kZ96I6b",
    "outputId": "00ae9081-ef84-4dce-db68-b17dea99fed2"
   },
   "outputs": [
    {
     "name": "stdout",
     "output_type": "stream",
     "text": [
      "Stability criterion =  1.0\n",
      "nt_min =  156.0\n"
     ]
    },
    {
     "data": {
      "text/plain": [
       "[<matplotlib.lines.Line2D at 0x7f12861526d8>]"
      ]
     },
     "execution_count": 14,
     "metadata": {},
     "output_type": "execute_result"
    },
    {
     "data": {
      "image/png": "[encoded data removed]",
      "text/plain": [
       "<Figure size 432x288 with 1 Axes>"
      ]
     },
     "metadata": {
      "needs_background": "light"
     },
     "output_type": "display_data"
    }
   ],
   "source": [
    "xrange = 20.0\n",
    "trange = 0.620\n",
    "nx = 401  # try changing this number from 41 to 81 and Run All ... what happens?\n",
    "dx = xrange / (nx-1)\n",
    "nt = 156    #nt is the number of timesteps we want to calculate\n",
    "dt = trange/ (nt-1)  #dt is the amount of time each timestep covers (delta t)\n",
    "c = 25    #assume wavespeed of c = 25 m/s\n",
    "\n",
    "print (\"Stability criterion = \",c*dt/(2.0*dx))\n",
    "print (\"nt_min = \",c*trange/(2*xrange)*(nx-1)+1)\n",
    "\n",
    "u = np.ones(nx)      #numpy function ones()\n",
    "x = np.linspace(0, xrange, nx)\n",
    "\n",
    "# Test Case 1: Square Puls\n",
    "#u[int(.5 / dx):int(1 / dx + 1)] = 2  #setting u = 2 between 0.5 and 1 as per our I.C.s\n",
    "#u[int(1 / dx):int(1.5 / dx + 1)] = 0  #setting u = 0 between 1 and 1.5 as per our I.C.s\n",
    "\n",
    "# Test Case 2:  Gaussian Pulse\n",
    "mu = 0.75\n",
    "sigma = 0.25\n",
    "for i in range(len(u)):\n",
    "    u[i]=u[i]+np.exp(-1.0*(x[i]-mu)**2/sigma**2)\n",
    "\n",
    "plt.plot(x, u);\n",
    "\n",
    "un = np.ones(nx) #initialize a temporary array\n",
    "\n",
    "for n in range(nt):  #loop for values of n from 0 to nt, so it will run nt times\n",
    "    un = u.copy() ##copy the existing values of u into un\n",
    "    for i in range(1, nx-1): ## you can try commenting this line and...\n",
    "        u[i] = un[i] - c * dt / (2.0*dx) * (un[i+1] - un[i-1])\n",
    "\n",
    "plt.plot(x, u)"
   ]
  },
  {
   "cell_type": "code",
   "execution_count": null,
   "metadata": {},
   "outputs": [],
   "source": []
  }
 ],
 "metadata": {
  "colab": {
   "authorship_tag": "ABX9TyNt+F0c6h2szZWyIC0DwlmJ",
   "include_colab_link": true,
   "name": "TravelingWave.ipynb",
   "provenance": []
  },
  "kernelspec": {
   "display_name": "Python 3",
   "language": "python",
   "name": "python3"
  },
  "language_info": {
   "codemirror_mode": {
    "name": "ipython",
    "version": 3
   },
   "file_extension": ".py",
   "mimetype": "text/x-python",
   "name": "python",
   "nbconvert_exporter": "python",
   "pygments_lexer": "ipython3",
   "version": "3.6.8"
  }
 },
 "nbformat": 4,
 "nbformat_minor": 1
}
