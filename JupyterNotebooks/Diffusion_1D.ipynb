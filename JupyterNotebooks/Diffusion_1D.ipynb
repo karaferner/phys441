{
 "cells": [
  {
   "cell_type": "markdown",
   "metadata": {
    "colab_type": "text",
    "id": "view-in-github"
   },
   "source": [
    "<a href=\"https://colab.research.google.com/github/brash99/phys441/blob/master/JupyterNotebooks/TravelingWaveConvection.ipynb\" target=\"_parent\"><img src=\"https://colab.research.google.com/assets/colab-badge.svg\" alt=\"Open In Colab\"/></a>"
   ]
  },
  {
   "cell_type": "markdown",
   "metadata": {},
   "source": [
    "## Diffusion in 1D\n",
    "\n",
    "### Central Difference Approximation of Second Order Derivatives\n",
    "\n",
    "\\begin{eqnarray}\n",
    "u_{i+1} & = & u_i + \\Delta x \\frac{\\partial u}{\\partial x} \\bigg|_i + \\frac{\\Delta x^2}{2} \\frac{\\partial^2 u}{\\partial x^2} \\bigg|_i + \\frac{\\Delta x^3}{6} \\frac{\\partial^3 u}{\\partial x^3} \\bigg|_i + \\frac{\\Delta x^4}{24} \\frac{\\partial^4 u}{\\partial x^4} \\bigg|_ih.o.t \\\\ \n",
    "u_{i-1} & = & u_i - \\Delta x \\frac{\\partial u}{\\partial x} \\bigg|_i + \\frac{\\Delta x^2}{2} \\frac{\\partial^2 u}{\\partial x^2} \\bigg|_i - \\frac{\\Delta x^3}{6} \\frac{\\partial^3 u}{\\partial x^3} \\bigg|_i + \\frac{\\Delta x^4}{24} \\frac{\\partial^4 u}{\\partial x^4} \\bigg|_i h.o.t \\\\\n",
    "\\end{eqnarray}\n",
    "\n",
    "Adding these two equations together, we arrive at:\n",
    "\n",
    "\\begin{eqnarray}\n",
    "\\frac{\\partial^2 u}{\\partial x^2} & = & \\frac{u_{i+1} - 2 u_i + u_{i-1}}{\\Delta x^2} +\n",
    "\\frac{\\Delta x^2}{12} \\frac{\\partial^4 u}{\\partial x^4} + h.o.t \\\\ \n",
    "\\end{eqnarray}\n",
    "\n",
    "### The Diffusion Equation\n",
    "\n",
    "\\begin{equation}\n",
    "\\frac{\\partial u}{\\partial t} - \\nu \\frac{\\partial^2 u}{\\partial x^2} = 0\n",
    "\\end{equation}\n",
    "\n",
    "where $\\nu$ is the viscosity.  As before, we use the forward difference for the time derivative, and the central difference approximation for the second order spatial derivative.  Why is this so?  Well, time moves $forward$, and so using the forward difference makes sense for the time derivative.  The central difference approximation is $isotropic$ in the forward and backward directions, and since normal physical diffusion is directionally isotropic (in typical physical systems), this also makes sense.\n",
    "\n",
    "\\begin{equation}\n",
    "\\frac{u_i^{n+1} -  u_i^n}{\\Delta t} - \\nu \\left( \\frac{u^n_{i+1} - 2 u^n_i + u^n_{i-1}}{\\Delta x^2} \\right) = 0\n",
    "\\end{equation}\n",
    "\n",
    "\\begin{equation}\n",
    "u_i^{n+1} =  u_i^n + \\frac{\\nu \\Delta t}{\\Delta x^2} \\left( u^n_{i+1} - 2 u^n_i + u^n_{i-1} \\right)\n",
    "\\end{equation}"
   ]
  },
  {
   "cell_type": "code",
   "execution_count": 1,
   "metadata": {
    "id": "j_o0pie1j61U"
   },
   "outputs": [],
   "source": [
    "# Remember: comments in python are denoted by the pound sign\n",
    "import numpy as np                            #here we load numpy\n",
    "from matplotlib import pyplot as plt     #here we load matplotlib\n",
    "import time, sys                         #and load some utilities"
   ]
  },
  {
   "cell_type": "code",
   "execution_count": 2,
   "metadata": {
    "id": "DsjQi5MfkKHC"
   },
   "outputs": [],
   "source": [
    "#this makes matplotlib plots appear in the notebook (instead of a separate window)\n",
    "%matplotlib inline                  "
   ]
  },
  {
   "cell_type": "code",
<<<<<<< HEAD
   "execution_count": 10,
=======
   "execution_count": 19,
>>>>>>> upstream/master
   "metadata": {
    "id": "thUmpMTTkPBq"
   },
   "outputs": [
    {
     "name": "stdout",
     "output_type": "stream",
     "text": [
<<<<<<< HEAD
      "Stability constant = 0.5000\n",
=======
      "Stability constant = 0.2401\n",
>>>>>>> upstream/master
      "Minimum number of timesteps = 1921\n"
     ]
    }
   ],
   "source": [
    "# We define the x-axis to start at x=0.0m and end at x=20.0m.\n",
    "# \n",
    "# We specify the number of steps in x (nx), and the number\n",
    "# of steps in t (nt), and calculate dx and dt based on these choices.\n",
    "\n",
    "xrange = 20.0\n",
    "trange = 24.0\n",
    "nx = 401  # try changing this number from 41 to 81 and Run All ... what happens?\n",
    "dx = xrange / (nx-1)\n",
<<<<<<< HEAD
    "nt = 1921    #nt is the number of timesteps we want to calculate\n",
=======
    "nt = 4000    #nt is the number of timesteps we want to calculate\n",
>>>>>>> upstream/master
    "dt = trange/ (nt-1)  #dt is the amount of time each timestep covers (delta t)\n",
    "\n",
    "viscosity = 0.1\n",
    "print (\"Stability constant = %0.4f\" % (viscosity*dt/dx**2))\n",
    "\n",
    "# stability for viscosity*dt/dx**2 <= 1/2\n",
    "dt_max = 0.5*dx**2/viscosity\n",
    "nt_min = trange/dt_max+1\n",
    "print (\"Minimum number of timesteps = %0.0f\" % nt_min)\n",
    "\n",
    "x = np.linspace(0,xrange,nx)\n",
    "\n",
    "pulseShapeChoice = 1"
   ]
  },
  {
   "cell_type": "code",
   "execution_count": 20,
   "metadata": {
    "id": "hSC2t4s3kTUw"
   },
   "outputs": [],
   "source": [
    "# Set the wavefunction equal to all ones, initially\n",
    "u = np.ones(nx)      #numpy function ones()\n",
    "\n",
    "if (pulseShapeChoice == 1):\n",
    "  # Test Case 1: Square Pulse\n",
    "  u[int(9.75 / dx):int(10.25 / dx + 1)] = 2  #setting u = 2 between 0.5 and 1\n",
    "else:\n",
    "  # Test Case 2:  Gaussian Pulse\n",
    "  mu = 10.0\n",
    "  sigma = 0.25\n",
    "  for i in range(len(u)):\n",
    "    u[i]=u[i]+np.exp(-1.0*(x[i]-mu)**2/sigma**2)\n"
   ]
  },
  {
   "cell_type": "code",
   "execution_count": 21,
   "metadata": {
    "colab": {
     "base_uri": "https://localhost:8080/",
     "height": 282
    },
    "id": "DxUL7BDwkZBg",
    "outputId": "3efc7e72-f130-44e9-ccb1-0af35c9bb40a"
   },
   "outputs": [
    {
     "name": "stdout",
     "output_type": "stream",
     "text": [
      "Integral =  11.0\n"
     ]
    },
    {
     "data": {
      "image/png": "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\n",
      "text/plain": [
       "<Figure size 432x288 with 1 Axes>"
      ]
     },
     "metadata": {
      "needs_background": "light"
     },
     "output_type": "display_data"
    }
   ],
   "source": [
    "plt.plot(x, u)\n",
    "print (\"Integral = \",u.sum()-len(x))"
   ]
  },
  {
   "cell_type": "code",
   "execution_count": 22,
   "metadata": {
    "id": "nvo0TMCMkheZ"
   },
   "outputs": [],
   "source": [
    "#un = np.ones(nx) #initialize a temporary array\n",
    "\n",
    "for n in range(nt):  #loop for values of n from 0 to nt, so it will run nt times\n",
    "    un = u.copy() ##copy the existing values of u into un\n",
    "    for i in range(1, nx-1): ## you can try commenting this line and...\n",
    "        u[i] = un[i] + viscosity * dt / dx**2 * (un[i+1] - 2.0*un[i] + un[i-1])"
   ]
  },
  {
   "cell_type": "code",
   "execution_count": 23,
   "metadata": {
    "colab": {
     "base_uri": "https://localhost:8080/",
     "height": 282
    },
    "id": "MQ0dgbPmkjeN",
    "outputId": "170602c2-460b-4050-897b-4a0cea1641f7"
   },
   "outputs": [
    {
     "name": "stdout",
     "output_type": "stream",
     "text": [
      "Integral =  10.999883441938323\n"
     ]
    },
    {
     "data": {
<<<<<<< HEAD
      "image/png": "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\n",
=======
      "image/png": "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\n",
>>>>>>> upstream/master
      "text/plain": [
       "<Figure size 432x288 with 1 Axes>"
      ]
     },
     "metadata": {
      "needs_background": "light"
     },
     "output_type": "display_data"
    }
   ],
   "source": [
    "plt.plot(x, u)\n",
    "\n",
    "print (\"Integral = \",u.sum()-len(x))"
   ]
  },
  {
   "cell_type": "code",
   "execution_count": 24,
   "metadata": {
    "colab": {
     "base_uri": "https://localhost:8080/",
     "height": 399
    },
    "id": "Z0xe0waXuN_5",
    "outputId": "1a96eee7-4bb6-46ee-821b-a70d35ac1cca"
   },
   "outputs": [
    {
     "name": "stdout",
     "output_type": "stream",
     "text": [
      "Stability parameter = 0.4995 \n",
      "nt_min = 1921\n",
      "Integral =  11.0\n",
      "Integral =  10.999884836263675\n",
      "Integral =  10.999884567011975\n",
      "Integral =  10.999884602457257\n",
      "Integral =  10.9998845963147\n",
      "Integral =  10.999884595838182\n",
      "Integral =  10.999884594592743\n"
     ]
    },
    {
     "data": {
      "image/png": "iVBORw0KGgoAAAANSUhEUgAAAXQAAAD4CAYAAAD8Zh1EAAAAOXRFWHRTb2Z0d2FyZQBNYXRwbG90bGliIHZlcnNpb24zLjMuMiwgaHR0cHM6Ly9tYXRwbG90bGliLm9yZy8vihELAAAACXBIWXMAAAsTAAALEwEAmpwYAAAmAUlEQVR4nO3de3yc1X3n8c9vbtLoLlmyLd8x2AZMwAEDIZAAISFgyK1NLzSbpGlatnklLdm222Tb3aT76l5e2TTZbbdteNGWpWlTkrahSSBcQhISCIkhBoxtML4AvsqW5JvumtHMc/aPZ2QJWaMZW6PRPPN837zEjOY5M3P0zPirozPnYs45REQk+CLzXQERESkNBbqISJVQoIuIVAkFuohIlVCgi4hUidh8PXF7e7tbtWrVfD29iEggPffcc8eccx3THZu3QF+1ahVbtmyZr6cXEQkkM9uf75i6XEREqoQCXUSkSijQRUSqhAJdRKRKKNBFRKpEwUA3s+Vm9oSZ7TSzl8zsrmnKmJn9hZntNbNtZnb53FRXRETyKWbYYgb4fefc82bWCDxnZo87516eVOZWYE3u62rgK7lLEREpk4KB7pw7AhzJXR8ws53AUmByoL8P+Krz1+LdbGYtZtaZu69IRXtoWxe7jw7kPd5Sl+Bj167CzMpYK5Gzd1YTi8xsFfBm4Jkph5YCByd9fyh32xsC3czuBO4EWLFixVlWVWRufPab2xlMZZgur8e3C7jxwoWc115f3oqJnKWiA93MGoBvAp92zvVPPTzNXc7YOcM5dw9wD8DGjRu1s4ZUhIzn8e/fvpr/tOmiM45958Uufvf+F8h63jzUTOTsFDXKxczi+GH+NefcA9MUOQQsn/T9MqBr9tUTmXvFbNqljb0kCIoZ5WLA3wE7nXNfzlPsO8BHcqNd3gL0qf9cgsLB9H9jTrpZeS5BUEyXy7XAh4HtZrY1d9sfASsAnHN3Aw8Dm4C9wDDwsZLXVGSuOLA8iT7er64WugRBMaNcfkLe9svpMg74ZKkqJVJODjftB6IwEfRObXQJAM0UldBzLn+LRS10CRIFuoSegxla6LkyCnQJAAW6hJ5zrnAfurpcJAAU6BJ6M7XQx9voaqFLECjQJfSK6UMXCQIFugjkTW71oUuQKNAl1FwuqfO30DVsUYJDgS6hNt7y1igXqQYKdAm18ZwuPMpFpPIp0CXUTne55Guh2xvLiVQyBbqE2kQLfXoTU/9FKp8CXUKtUB86mvovAaJAl1AbH72Sb3s5m1RSpNIp0CXUCrW8Tw9bVJ5LACjQRShi2GLZaiJy7hToEmqn+9C1wYVUAQW6hNpEH/r0x0+PclGiSwAo0CXUJlro09PEIgkSBbqE2ulx6Jr6L1VAgS6hNrE418yJrsW5JAgU6BJqhVvo6nOR4FCgS6gVHoeeKzf3VRGZNQW6hNvpqf/a4EKCT4EuoXZ62GKe49rgQoJEgS6hVnCDC00skgBRoEuoFV4+943lRCqZAl1CbWKDi0JT/xXpUvkU6BJqhYYtog0uJEAU6BJqxU79V6JLECjQJdQcM38qalPLiVQwBbqEW8EWuja4kOAoGOhmdq+Z9ZjZjjzHm83sQTN70cxeMrOPlb6aInNDi3NJNSmmhX4fcMsMxz8JvOycuwy4AfiSmSVmXzWRuVf0Bhdlqo/IbBQMdOfck8CJmYoAjeb/bdqQK5spTfVE5pY2uJBqUoo+9L8ELgK6gO3AXc45b7qCZnanmW0xsy29vb0leGqR2dEGF1JNShHo7wa2AkuADcBfmlnTdAWdc/c45zY65zZ2dHSU4KlFZqfwOPRcOSW6BEApAv1jwAPOtxd4HbiwBI8rMucKbXAxEfRKdKl8pQj0A8BNAGa2CFgHvFaCxxWZc67AYi4TfejlqY/IbMQKFTCz+/FHr7Sb2SHg80AcwDl3N/CnwH1mth3/n8VnnHPH5qzGInNAfehSDQoGunPujgLHu4CbS1YjkTKaWD630OJcZaqQyCxopqiEWsENLk4vzqVEl8qnQJdQ0wYXUk0U6BJqRU/9L0dlRGZJgS6hVuywRc0UlSBQoEuoFbvBhUgQKNBFZlBoBqlIJVGgS6gVHLY4pZxIJVOgS8gVGLZoGrYowaFAl1ArOGxxSjmRSqZAl1CbWMpFM0Ul+BToEmqFW+jjXS4ilU+BLqFWcOq/xqFLgCjQJdQKtdBPl5v7qojMmgJdQm2i4V1ggwslugSAAl1CreAm0Rq2KAGiQJdQK7hJ9JRyIpVMgS5CERtclLEuIudKgS6hVriFrj1FJTgU6BJqhfvQ31hOpJIp0CXUNPVfqokCXUKt0NR/1IcuAaJAl1BzBTrRTwe9mugSAAp0CbWJFvr0NMpFgkSBLqFWbMNbDXQJAgW6hNz4KJdCOxYp0aXyKdAl1AqOQzctnyvBoUCXUDvdh65hi1IFFOgSahMtdE39l+BToEuojfeNF9yxSE10CQAFuoRaoWGL+Q+IVJ6CgW5m95pZj5ntmKHMDWa21cxeMrMfl7aKInPHFUh0bRItQVJMC/0+4JZ8B82sBfhr4L3OufXAL5WkZiJlMLGnaIFhi+pFlwAoGOjOuSeBEzMU+TXgAefcgVz5nhLVTWTuFVqcy7R8rgRHKfrQ1wKtZvYjM3vOzD6Sr6CZ3WlmW8xsS29vbwmeWmR2Ck79n1JOpJKVItBjwBXAbcC7gf9iZmunK+icu8c5t9E5t7Gjo6METy0yOxPL5xYYtqhElwCIleAxDgHHnHNDwJCZPQlcBuwuwWOLzKmCG1yMD1tUG10CoBQt9G8DbzOzmJnVAVcDO0vwuCJzrvDU/zeWE6lkBVvoZnY/cAPQbmaHgM8DcQDn3N3OuZ1m9iiwDfCAv3XO5R3iKFJJCk39FwmSgoHunLujiDJfBL5YkhqJlJErMBB9ooWuJrpUPs0UlVArvDiXhi1KcCjQJdyK7UMvS2VEZkeBLqHmit7gokwVEpkFBbqEWvEbXCjRpfIp0CXUXKGp/1PKiVQyBbqE2sQYF21wIcGnQJdQK7jBhWYWSYAo0CXUio1pxbkEgQJdQq1QH/r4MTXQJQgU6BJyM29w4R/TKBcJBgW6hFpxLXRTC10CQYEuoVbM4lyG+tAlGBToEmoTE4tm6HJRH7oEhAJdQq3QBhfgh7360CUIFOgSaoWm/p8+qDyXAFCgS6ipD12qiQJdQq3QBhcw3oeuSJfKp0AXoYg+dOW5BIACXUKtmD50M3W5SDAo0CXUCm1wAbk+dCW6BIACXUKtuBa6hi1KMCjQJdSKmvqPWugSDAp0CbVCG1zkDooEggJdQq3QBhcw3kJXE10qnwJdQq2YmPb70EUqnwJdwk0bXEgVUaBLqBU9bFFtdAkABbqEWtHDFpXnEgAKdAk1Lc4l1USBLqGmDS6kmijQJdSK2eBCbXQJioKBbmb3mlmPme0oUO5KM8ua2QdLVz2RuVX04lzKcwmAYlro9wG3zFTAzKLAF4DHSlAnkbI5ndOa+i9VoGCgO+eeBE4UKPY7wDeBnlJUSqTcCvWhiwTBrPvQzWwp8AHg7iLK3mlmW8xsS29v72yfWmT2ipr6r9UWJRhK8aHo/wE+45zLFironLvHObfRObexo6OjBE8tMjuFN6BTH7oER6wEj7ER+Hpupl07sMnMMs65b5XgsUXm1MTyuYVmiopUvlkHunPuvPHrZnYf8JDCXILi9GqLM5TRTFEJioKBbmb3AzcA7WZ2CPg8EAdwzhXsNxepZMXMFPXLKdGl8hUMdOfcHcU+mHPu12dVG5EyK3amqPJcgkAzRSXUihqHbspzCQYFuoRacTsWmXYskkBQoItQxLDFstVE5Nwp0CXUih62qESXAFCgS6idXm1xhjLaU1SCQoEuoTbRQs9fxm+hK9Kl8inQJdQmpv7PnOiKcwkCBbqEWrEtdCW6BIECXUKtmBmgfh+6El0qnwJdQq34PvSyVEdkVhToImiTaKkOCnQJtaJniqrLRQJAgS6hVmzLWy10CQIFuoRa0TsWlaMyIrOkQJdQK2bq/+RyIpVMgS6hVuzUf7XRJQgU6BJqGrYo1USBLqE2sQVdgWGL5amOyKwo0CXcimh6++PQFelS+RToEmqOwhtE++PQRSqfAl1CzbmZPxAFzRSV4FCgS6g5XMEhixrjIkGhQJdQK6aFjmmTaAkGBbqEWnF96CLBoECXUPNb6AW6XNSHLgGhQJdQcxTuczGK2whDZL4p0CXcihrlYmqhSyAo0CXUiu1DV6BLECjQJdScc8X1oavLRQJAgS6h5lyRM0WV5xIABQPdzO41sx4z25Hn+IfMbFvu66dmdlnpqykyNxzFjEPXxCIJhmJa6PcBt8xw/HXgeufcpcCfAveUoF4iZeG30AvPFFWiSxDEChVwzj1pZqtmOP7TSd9uBpaVoF4iZeFwRa3l4qnPRQKg1H3oHwceyXfQzO40sy1mtqW3t7fETy1y9lwRfS7qQ5egKFmgm9mN+IH+mXxlnHP3OOc2Ouc2dnR0lOqpRWalqNUWy1ITkdkp2OVSDDO7FPhb4Fbn3PFSPKZIOThXxGqL2uBCAmLWLXQzWwE8AHzYObd79lUSKR9tcCHVpGAL3czuB24A2s3sEPB5IA7gnLsb+BywAPjrXEsn45zbOFcVFiklbXAh1aSYUS53FDj+m8BvlqxGImVUzAYXfjmRyleSPnSRQEoNsnh4D+9y22GPwYGfQawG6trgyIvQeRk0LuGdg0/zUzbAwFFoXDzftRbJy+brw56NGze6LVu2zMtzS0h1vQAjp+C1H8FLD0CikbHePTjnkTAPnHfmfSwKLsuQ1VHfvhJO7oNrfxfazoeW5bDimsKd8CIlZGbP5evWVgtdqtu+n/ghvOsR2P0YRBMwNnT6cHz8Sr52jcsCUO+GoXenf9uPvwDxOhgbhnWbYPGbYPlVsPodENHySDJ/FOhSffq7/O6TvT+ErV/zu1Eyo/4xb6w0zzE27F/uehhe/aH/+Ot/ARZeDBt+DZqWqOUuZadAl+rR9QJ0vwwP3gU1jTBywr99PMznyvjjv/QA7P0B/Oh/wDv/K3RcCGtvntvnFplEgS7B5mUhNQD//BEY7fM/zMRNhHm5pfr8y8c/B42dsPAiuPlPoX0dRPXPTeaW3mESXAefha3/BLsfhYEj812bKRwMdPlf//iyH+63/28/4GM18105qVIKdAmeg8/C0W3w3d/3P+TMpue7RjMbOAKD3fA374DrPg1Lr4ALb5vvWkkVUqBLcKQG4Pt/4veVH37Ov63Sw3zc+JDIp74ENU1w1Z3wpl+ChRfOb72kqijQJRie+hIceAb2PDbfNZm9VD889WdwYDO0roT3//V810iqhAJdKlvvbvj6HZAe9vujq8n+n/hfx1+Ft3wC1r9/vmskAadAl8rjHIychG99Ao5sm9MgTwOeGV2xKE2ex4gZvdEYKzJjDFkEByzJZMiYUTdXs6oPboa+g/DYH8EnnoZEA0Tjhe8nMoUCXSpL/xE49Cz868f9UBufwDNL3dEoWYPH6uvI4gf4Nxsb8CZN/mnLZhnDGIhGaMz6fd7DESObK1Pvedw0NEytc1yUTnP5aIqIg1WZzOwr2H/Yv/zzDXDNp+BNvwhtq2f/uBIqWstFKkMmBV1b4bu/B8f2QDZ1zg/lAV2xKFtrauiORfl/zU30RaMARLOO1v44G7uWsTS1gsWjLSRdPQmrJRGJE7EYHmDO4eGRdRnS3jBDNsKJeD89iSM8vXw/ffVDjNT4Qb84k+HWwWGavSzvGRym0fNIzubfVTQ3rPHXvwtt50F9+7k/llSdmdZyUaDL/Nv3NOz/KTzx3znXhWpHzXgpkeD79Umeq61lZ00CPMe7dq9mw6lLWMxiWmJtNCZaqIs1ELXoGY/hOT/ALbdCulkkb7nhzCBDmQH60ifpdUfY0fgKj67ZxWiNR1s2y4bRFL91qp9F2Qwd2WkW/SrWmz8Ma2+Bi24/98eQqqJAl8o00O1PCvrhf4OhnrO/uxk7axLc39TIU8laIqMRbtp/CVefvIRF8WUsqF1IXawB8EN4cKyP/vRJhrL99LtTHI/0sq/xON3J45yoOc7B1hGiDqIejNRATRoWDMRpznSwqq+VzqE2OrILaaWN+lgTDfEmmuNtRCN+z+WYl+L4aA/d6cPsSO7hkfN+zvHmDJeOpvj0yVMsyWRYmsme27m67cuw7ErovPTc7i9VQ4Eulednf+WPJ9/+L2d1t0EzDsRjfKWlmR/V17HmaCPv3X8dF9g6FiWXkozVAzCSGeLY6FG6M13sTu7luxfs4ET98BsWzLowlSaK4/z0GCvHMnTFYnRmM7RmPfYk4rRls8QdPF9bQ9w5TkYjvFBbO1EZ50imo9y65xLWD6xhcWQJ7bWLaUq0ApD2UhwbOcr+zOt8b+HTbF59mMtGU/zhiZMszGRZnD3LcF99Ayy+FG76vJYRCDEFulSOgz+Hrf8Iz//D6aVpC0kZ9EWi/HlrMz+sr+PiAyu47ejbWJFYRUdtJ1GLkfZS9Iwc5mBmHz9e+CJPrtyNixpJz+N9g0O0Zj3WptOsT6XxDDozWYzC289N5QEnI/7ol6frknjAvniMv29uImuGOcfF3Z3cvn8jK+08FiWXURdrxDnHiVQ3h1P7+UnTMzx48SvcODTMH5w4RYuXpck7i3+Hb/pluOCdcNmvnGXtpRoo0GX+OQf/+Asw2APdO4q6iwd8paWZJ+tqiXcv5X1dN7E6cQEdtZ1ELMLA2CmOjBxkW+Il/nXN0/Q1ZLl0NMVVo6NsGvRHoywvxQiUIh2LRBiORPjXxgZ6YlEeq6/DZeB9uy/lmoErWVK7kraaDgBOpY9zcGQfP2p+mifWvcyv9A/yW319xQd72/mQqIcPfwvqF8zdDyUVR4Eu8+fUQX/N8Cf/rKh+cgc8Ul/HltoaXhhaxi8eeCdrY2tYlFxC1GIMjvVxYHgvTzRv5pELdnBVZpSNIykuTqe5emSUShu9/dNkLccjEZ6qS/JofR1v2beKTUffyqraC2iv7QTgRKqX/aOv8mj7Uwws28kHB4Z499AQNcX802xY5H9oet2nNcwxJBToUn79XdCzE77x7/whiQW6V3bF4zxfW8NjbgFv3f9uLnHr6axbTjySYCQzxMHhV3my8ed8a80WPjQ8wPpUmstSqXP/kHEeHIlGORKL8bNkLXe3NHHNvhW8p/t6VtZeQFvNQgCOjR7l1fQevrv0cc5vep0P9g+yZmyMGfdBisTAy8AH7oHFl8Ci9WX5eWR+KNClfDwPfvQ/ofsl2PXdGYuOmvGTZC1PWhOtXbdyRfpNLK1bQU00SSo7yuGRfTxTu4Wvr/spnxo8ybrUGBtSqbmbsVlGI7nZqZuTtXyxtYUb967jXSeuY2VyNc2JBXjOo2f0MLsyr/Dc8oe5LHGUXxkYpLbQz965AVZdB9f/IdQ2l+VnkfJSoMvcGz4BrzwE2/4Z9j01Y9Hna2p4MZrk4LFNXDt0GcuTK6iLNZLxxuga2c+Ltp2vXvQEdw33cGE6zaWp9Mwt1IBz+BOhnk4muaepiWt3X8F1Q9ewPLmKhngTGW+MIyMH2G7bGV76EBdbHzcPj8z8oMuu8vc5fdvvQ11bWX4OKQ8Fusyd3t3Q+wp88+Ngkbzbvb0aj/FaJMHP+zaxcWAjK2qX0xBvJuuydI8c5BXvJb6+5nE+ljnC+lSai9Ml2vszgHqiUZ6oS/KNZCPX7r6BK8auYFndCmqjdaS9FIeH97E99gKtix9irRvhilSeWbW58fHc+gVYuB5WXlO+H0LmjAJdSiuT8tcmf/Auv6+86/lpi3VHo3RFYvyg72bWD17NytqVNCVa8ZxH7+hh9o7t5MHzHucDdoBLU2nWjIU3xPM5GYnwWH0d34+3cuWeW7jEXUJn3TISkRpGs0McHH6NnbHnOX/Rw6zzUvnXlWns9Fvs138GWlf5I2QkkBToUhrZDDx7DxzeAjsfmna9le5olG4X49m+21g5upGlNctpSrTinOPY6BFeS7/C91d8j1vjr7NhNMWKMg4rDLoBMx5pqGeztbPh1fewNnoRnbnRP8OZAbpGDnIgsoMVi77NaoamP7exWn/I41W/BRfeDg0d5f9BZFYU6HLuPM+fnr//aXj1Ceh56Ywir8Vj7B/p5MipW1nGOpYkl1MbrcNzWY6NHmX/2F5+vuQxbojvYUM6zcKznSEpZ0gZPFZfz8vZxaw48B7Oj6xhYbKTeCTBmJeme/QwhzKvEm/+ARc0vsL66bqwFqyBluVw3X+Azsv0IWpAKNDl7GQz8NoTfogffNa/nMQDfhJv4mT3u0hkL2NxvJO2moVELUraS9E9cpiDmT0cWPIoN8f2sy6dLm5M9VywqD9kMpb0N2cePeV3P8Rq4OQ+DsXPI+05VrtDsOTNfnfSsd1+wKUG4OR+DkWXYaOnWBofgMbF/lrt6WGIJyE96E+agqJnvpaaA16oqWEbrcQO3s4Ku4jO5FKSuXVsTqaO0Z3ups92kej4PpvcASJMmSW75HL/Z7v2Lmhfqw9SK5gCXWaWzfjrjr/8bX+zhSPb/E2Yc0bM2JNuY9fgO2hMX0hbvJP2moUkorU45ziVPkZ3uosTto3Msu9x01g/C7PZs55WXxIXv98PpFMH/OF7DYvg5D6//zhe509ual8LGGRTfOKBfXT3j/DAJ97qd0c4zw/oSNS/nk3zR996hZ/t6eKJ39kIiTo/0EdOQm2L/9gjJyHZ6q9Nkx70f3m8/mP/F6GbxUqL5+hoNMrOSIKjvTfSnL6Czvhy2moXEbUoWS/D8XQPx9M99EX3ckH94yyrO0K7N6meHRf6P9s1n/QXA2taqg03KshMga4VfsLqyDY/xLd9w19f5fheyIzggBdp4djJTYykL6Ixsoi2RDstiQVck4xCEvrTJzk0sp+jbjct9d9n8cKDvGN8aOH0g1xKY83N/gJV2TE/dBZc4P8MrStzLfBE4cfoWPuGb9N2hHTETfqQcPJyuVGIxvGicYZIQpM/s5PaZv+DRfDXKx93/o0T16//j/6lc/6QzlSfP+rk9af8vw5S/fDC12C0D47vOYuTUNjibJbF2RFoeRiPhzkci7FnpIWj/Tez2FtPe6KTdY2XErENwAfpOXWSneleBrK9eLHXWDD2DFfFNxM5uBkbP6+XfxRWvtXf4HrVtSWtr5SOAr3aDXT7XQFdW+HAz/wg2fkgDB/n5dHl9AxfxvDY9cTtg9RHW2iOt9IWb6E9GYEkjHlpTqaOsWtgGwO8RqT1Z9zUvIvVMDHJ5dz3ophQtwA2ftwPy3gSzns7ZNN+90hts99ingMOTq9/no/Zua7Snrtz/YKJ9Vbe/KGJYxt/Y+L60DEYG/F/5j3fg/oOOPEaPHM3eFm/q+gcRIDlmQzL48dgwT+RBVJm/ICFZHtupMZby4L4YjqTyzkvuha4FrIfZs9oP/1jJxnInCTtjhE/vJ+F9f+ZdfG91DS0werr/b9oLv1l/zWqaYLmped4kqRUCga6md0L3A70OOcumea4AX8ObAKGgV93zk0/jk1Ky/P8sE4PwrG9fhD27GRs9w84eDzC8de7GRhqJp1dSNS1krBOaqIXkIy+jYZ4E03RJE11/kM55xjO+hs2dI3sZyhyiJbE8yxt2coldWO8oe17Lul29W9D83K/e+LC2/zWaqwm1/3BG5a1LSfnXBFPbcx5z+TkXYkWfGLi+vV/6LfynfMDPhrzh4oefBaSLf5fWtv+GXD++6CAKFDnHO+hGzq+DvgfsA4QYcfQGk4NXUnSW0VTrIPmeBuLk8uITNrkoyuVZnCwn+HDg6Syw6Qefx6Pk8Ssl9rGARYtTbCsHWovfT8k2yCa8LttvKy/V2qkmqeIzb9iWuj3AX8JfDXP8VuBNbmvq4Gv5C5lMs8D55H1HJmhAVIDA4yNZEif6GFkJMXIyCjZUyfIZhyjQ8O4vpOk0+CNZnGjGbLZKJaNYF4UczEiFiNqcaIWJx6pIR5JkIjUkIg2koj8KgmL0gl0ThpuPOalGc0OM5IZpmt4P8PeSTJ2lNr4Hs5veIHF9UOs86b0+eYLsmSr/0FaZhRW3+h3PfR3+X+OJ1thbBTa1wBW0Wt3+y30mfmBP4/LDZj5X+0X+N+3rvK7P8bd/mX//ZVNw8AR/xdlz8t+V0+sFl5/0g/78c9JpqhxUIPHDXW7oG7X6dsHzRhOJ9g+vIFUah1Rr5PaaG5zj1gTHTWLSURr3/hgh6HnkMfY8ynSXh/pbJq09xpjXpqMS5N1Y3hkcDaGF81ikSwW9bBEjGjMI5qIEaurJ1ETI5qsIdbQQLI2Sn1LG4mWNuK1RqyhmXhdA5FYFEvUQjyO6RcFUESgO+eeNLNVMxR5H/BV53+6utnMWsys0zl3pFSVnOzBz3yB88cuBOz0v0Sb9P98t4BNaYnZDCUn3WbT/0luU57vjQ995mMblndLswRREtQDeSZ7TNM17LksGW+MjMuQ9lKksykGx/oYS6UYc6Nk3QgZBsCO0xA9REv9XpYlemiOjXEwsoxWoiTdCC/G3oRHlENuPY9FL6I213/ySnQN9W6YYeo4GF1KnRuhz5rot0YcRsbi0JurzHPjteqAZwaB8ZZiL5Xu8KkR1ixqnLGMASeG0rzryz8uT6VKIg4syl1/z8TNTR8n6jI4jA53DMPhEeGi7C5OWTNxxtiQ2c7RyCLq3RCXRF+mr34hzd5+Ls4+yrFIOx3eMRa7Hnqpp380SffIWvqzyyDbTtQ1E7U6YpFaEpFa4pEEtdEkTYkWYpYgFolP+28AB4zlvobOPJwBMvTlvjuF57L+r1jnGP8PHM653K/e8dvI3ebOuG26KhS6ZabjZ5Se4YYDqVe55a9+r8Djn71SNJ2WAgcnfX8od9sZgW5mdwJ3AqxYseKcnixSF6f/WN/p790bzpqb+L+bvgT5yhf9GFOv5XsbvPF5nAN/22HPv3QOR5YsDiybOwYeWZxBJgIukiUbzTISjxKNpUjXxOlLNlCfSDGcbGMktoC2zDFOxdoZjjTQlB1jMLKIsUiCxswpTsYX4jDiLs1QpAkAzyJ4VtzLPn6Wx+OuLfdVTdYsauCdFy2ascz737yUU8NjZ7yTgm9i3HkXE0vv/pjrT1+f3Hf6zUnXIy4DGDGXptYbYSRSR0O2nxo3wmCkmZZML84iDERbWDh2CIcxFGlgYWo/o2MON5RlwVAfmUwC84xkJgMuAZ4RdwBRol6EiDOMKBEiRLDcZcRvIE3s/oo5m9T4MiKnm1i5cjbRsAJOfz/BJv25dubfbdM16WZS6HOZbHRuZkWXItCnq/m073zn3D3APeAPWzyXJ7vt86X/rSYykytXtXHlqmr7VSbVqBQdT4eA5ZO+XwZ0leBxRUTkLJQi0L8DfMR8bwH65qr/XERE8itm2OL9wA1Au5kdAj6P/4kLzrm7gYfxhyzuxR+2+LG5qqyIiORXzCiXOwocd8AnS1YjERE5Jxq8KSJSJRToIiJVQoEuIlIlFOgiIlVi3tZDN7NeYP853r0dOFbC6pRKpdYLKrduqtfZUb3OTjXWa6Vzbtq9A+ct0GfDzLbkW+B9PlVqvaBy66Z6nR3V6+yErV7qchERqRIKdBGRKhHUQL9nviuQR6XWCyq3bqrX2VG9zk6o6hXIPnQRETlTUFvoIiIyhQJdRKRKVHSgm9ktZrbLzPaa2WenOW5m9he549vM7PIy1Gm5mT1hZjvN7CUzu2uaMjeYWZ+Zbc19fW6u65V73n1mtj33nFumOT4f52vdpPOw1cz6zezTU8qU7XyZ2b1m1mNmOybd1mZmj5vZntxla577zvh+nIN6fdHMXsm9Vv9mZi157jvj6z4H9foTMzs86fXalOe+5T5f35hUp31mtjXPfefkfOXLhrK+v5xzFfmFv0H5q8Bq/F01XwQunlJmE/AI/q5JbwGeKUO9OoHLc9cbgd3T1OsG4KF5OGf7gPYZjpf9fE3zmh7FnxgxL+cLeDtwObBj0m3/C/hs7vpngS+cy/txDup1MxDLXf/CdPUq5nWfg3r9CfAHRbzWZT1fU45/CfhcOc9Xvmwo5/urklvoVwF7nXOvOefSwNfxN6Se7PQG1c65zUCLmXXOZaWcc0ecc8/nrg8AO/H3UA2Csp+vKW4CXnXOnesM4Vlzzj0JnJhy8/uAv89d/3vg/dPctZj3Y0nr5Zz7nnMuk/t2M/5uYGWV53wVo+zna5yZGfDLwP2ler4i65QvG8r2/qrkQM+3+fTZlpkzZrYKeDPwzDSHrzGzF83sETNbX6YqOeB7Zvac+RtyTzWv5wv4VfL/I5uP8zVukcvtspW7XDhNmfk+d7+B/9fVdAq97nPhU7muoHvzdCHM5/l6G9DtnNuT5/icn68p2VC291clB3oxm08XvUF1qZlZA/5G6J92zvVPOfw8frfCZcD/Bb5VjjoB1zrnLgduBT5pZm+fcnw+z1cCeC/wL9Mcnq/zdTbm89z9MZABvpanSKHXvdS+ApwPbACO4HdvTDVv5wu4g5lb53N6vgpkQ967TXPbWZ+vSg70YjafnpcNqs0sjv+Cfc0598DU4865fufcYO76w0DczNrnul7Oua7cZQ/wb/h/xk02nxt63wo875zrnnpgvs7XJN3jXU+5y55pyszXe+2jwO3Ah1yus3WqIl73knLOdTvnss45D/ibPM83X+crBvwC8I18ZebyfOXJhrK9vyo50H8OrDGz83Ktu1/F35B6srJvUJ3rn/s7YKdz7st5yizOlcPMrsI/z8fnuF71ZtY4fh3/A7UdU4rN54beeVtN83G+pvgO8NHc9Y8C356mTDHvx5Iys1uAzwDvdc4N5ylTzOte6npN/tzlA3mer+znK+edwCvOuUPTHZzL8zVDNpTv/VXqT3pL/KnxJvxPil8F/jh3228Dv527bsBf5Y5vBzaWoU7X4f8ptA3YmvvaNKVenwJewv+kejPw1jLUa3Xu+V7MPXdFnK/c89bhB3TzpNvm5Xzh/1I5Aozht4o+DiwAfgDsyV225couAR6e6f04x/Xai9+vOv4+u3tqvfK97nNcr3/IvX+24YdOZyWcr9zt942/ryaVLcv5miEbyvb+0tR/EZEqUcldLiIichYU6CIiVUKBLiJSJRToIiJVQoEuIlIlFOgiIlVCgS4iUiX+PxvY1ulA+r3NAAAAAElFTkSuQmCC\n",
      "text/plain": [
       "<Figure size 432x288 with 1 Axes>"
      ]
     },
     "metadata": {
      "needs_background": "light"
     },
     "output_type": "display_data"
    }
   ],
   "source": [
    "xrange = 20.0\n",
    "trange = 24.0\n",
    "nx = 401  # try changing this number from 41 to 81 and Run All ... what happens?\n",
    "dx = xrange / (nx-1)\n",
    "nt = 1923    #nt is the number of timesteps we want to calculate\n",
    "dt = trange/ (nt-1)  #dt is the amount of time each timestep covers (delta t)\n",
    "\n",
    "print (\"Stability parameter = %0.4f \" % (viscosity*dt/dx**2))\n",
    "print (\"nt_min = %0.0f\" % (2*viscosity*trange*(nx-1)**2/xrange**2+1))\n",
    "\n",
    "u = np.ones(nx)      #numpy function ones()\n",
    "x = np.linspace(0, xrange, nx)\n",
    "\n",
    "if (pulseShapeChoice == 1):\n",
    "  # Test Case 1: Square Pulse\n",
    "  u[int(9.75 / dx):int(10.25 / dx + 1)] = 2  #setting u = 2 between 0.5 and 1\n",
    "else:\n",
    "  # Test Case 2:  Gaussian Pulse\n",
    "  mu = 10.00\n",
    "  sigma = 0.25\n",
    "  for i in range(len(u)):\n",
    "    u[i]=u[i]+np.exp(-1.0*(x[i]-mu)**2/sigma**2)\n",
    "\n",
    "plt.plot(x, u)\n",
    "print (\"Integral = \",u.sum()-len(x))\n",
    "\n",
    "for ntt in range(nt-3,nt+3):\n",
    "  dt = trange/(ntt-1)\n",
    "  u = np.ones(nx)      #numpy function ones()\n",
    "  if (pulseShapeChoice == 1):\n",
    "    u[int(9.75 / dx):int(10.25 / dx + 1)] = 2  #setting u = 2 between 0.5 and 1\n",
    "  else:\n",
    "    for i in range(len(u)):\n",
    "      u[i]=u[i]+np.exp(-1.0*(x[i]-mu)**2/sigma**2)\n",
    "  for n in range(ntt):  #loop for values of n from 0 to nt, so it will run nt times\n",
    "    un = u.copy() ##copy the existing values of u into un\n",
    "    for i in range(1, nx-1): ## you can try commenting this line and...\n",
    "        u[i] = un[i] + viscosity * dt / dx**2 * (un[i+1] - 2.0*un[i] + un[i-1])\n",
    "  plt.plot(x, u)\n",
    "  print (\"Integral = \",u.sum()-len(x))"
   ]
  },
  {
   "cell_type": "code",
   "execution_count": 9,
   "metadata": {
    "colab": {
     "base_uri": "https://localhost:8080/",
     "height": 433
    },
    "id": "8iXwFiKXgXJS",
    "outputId": "28f575c7-6820-4e6b-8da0-a6ecef9d5427"
   },
   "outputs": [
    {
     "name": "stdout",
     "output_type": "stream",
     "text": [
      "Integral =  10.999884836263675\n",
      "Integral =  10.999884567011975\n",
      "Integral =  10.999884602457257\n",
      "Integral =  10.9998845963147\n",
      "Integral =  10.999884595838182\n",
      "Integral =  10.999884594592743\n"
     ]
    },
    {
     "data": {
      "image/png": "iVBORw0KGgoAAAANSUhEUgAAAYAAAAD4CAYAAADlwTGnAAAAOXRFWHRTb2Z0d2FyZQBNYXRwbG90bGliIHZlcnNpb24zLjMuMiwgaHR0cHM6Ly9tYXRwbG90bGliLm9yZy8vihELAAAACXBIWXMAAAsTAAALEwEAmpwYAABDm0lEQVR4nO3dd3xb1fn48c+j5b1iO85wQgYhIYEmhBBGgJCyKaPQljLaUkrLLtBNJ7Tftj9a2tLSMsoqgTJbNmWHhAAhIU7I3jtOHO9ta97z+0NKYjuWLduSbEvP+/VKLN1zxyNZvo/uOeeeI8YYlFJKJR9bfweglFKqf2gCUEqpJKUJQCmlkpQmAKWUSlKaAJRSKkk5+juAnigoKDBjxozp7zCUUmpQWbZsWZUxprDj8kGVAMaMGUNJSUl/h6GUUoOKiOzsbLlWASmlVJLSBKCUUklKE4BSSiUpTQBKKZWkNAEopVSS0gSglFJJShOAUkolKU0ASvWBMYYXlpWyZk89i7dV93c4SvXIoLoRTKmBYktFI/9evIuFmyvZVtlMustOZoqDFm+AP186lc8V5zA8J62/w1SqS5oAlOqhbZVNnPGXheSmO2lo9QHQ6gvg9gWwDNz+wiry0l28/8PT+jdQpbqhVUBK9cDPX1rNt+cGhyOpb/VhhSbUM4YDj+tafVQ2epj5u/eYt768nyJVqnt6BaBUBCzL8NqqvWyrbGZ7dTMQPOl3xhho8vpp9Pj5dEcNaS47J40viGO0SkVGrwCUisDyXbXc+uwKlu2qDXvib2v/Ov/6eAc3/Ht5bINTqpc0ASjVjTV76llZWg+A12/1aFuv38IXsJi3vpzqJk8swlOq1zQBKNWN37y+jrveXN/r7T1+i+88UcILy0ujGJVSfacJQKku7P8G7wtEUO8TRsAyWObgvpQaKDQBKBXG2r31TP7VW5TWtkZlf08v2cXsP86Pyr6UigbtBaRUGGV1bvyWobIxOnX3e+vdUdmPUtGiVwBKdWJTeSO7a1tisu9lO2upbfbGZN9K9YQmAKU68aP/ruKuNzfEZN9XPrKYp5Z0OkWrUnGlCUCpTnh8ATw97PIZKbfPwu3TxmDV/zQBKNVGwDIs21mDFcndXn3Q5PGzZk99TI+hVHc0ASjVxoKNFXzpgU/YXROdnj/h/KdkN5fcv6jHN5YpFU3aC0ipNpq9ASA4umc8jhOwYnuloVRX9ApAqTZMjKt+Oop1VZNSXek2AYjIYyJSISJrwpRPEpFPRMQjIj/sULZDRFaLyAoRKWmzfIiIvCsim0M/8/r+UpTqm9ue/YyHFm6L6zGveuxT/lOyO67HVGq/SK4AHgfO6aK8BrgF+FOY8jnGmGnGmBltlt0OzDPGTADmhZ4r1a+W76pj7d6GuB6zZGct68rie0yl9us2ARhjFhI8yYcrrzDGLAV8PTjuRcDc0OO5wBd7sK1SMWHon+oYrQVS/SXWbQAGeEdElonItW2WFxljygBCP4eG24GIXCsiJSJSUllZGeNwVTLyByw2lTdi9VOHHG/AYktFY/8cXCW1WCeAWcaY6cC5wE0icmpPd2CMecgYM8MYM6OwsDD6Eaqk9866cs7924dUN/fPeP2vrtjLeX/7iCaPv1+Or5JXTBOAMWZv6GcF8BIwM1RULiLDAUI/K2IZh1JdaXT7CFim3+7ObfL48QYsPDHueqpURzFLACKSISJZ+x8DZwH7exK9ClwVenwV8Eqs4lCqOwOlK/5AiUMlj25vBBORZ4DTgAIRKQXuAJwAxpgHRWQYUAJkA5aI3AZMBgqAl0Rk/3GeNsa8FdrtXcDzInINsAv4ShRfk1IR21rZRM0AGZlza2UTdpswJMPV36GoJCHxvvGlL2bMmGFKSkq6X1GpCM2+ez4VDZ6Y3/kbiTSnnctnjuZXF0zu71BUghGRZR264gN6J7BKcs0e/4A4+UNw+IkWrzYEq/jRBKCS2kCrd9ehIVQ8aQJQSckYg9dvxX3sn+5YBjz+gXFFohKfJgCVlN5eW86M375Li3dgnWw/3FzJMb95l/rWntxYr1Tv6HDQKimV1bfS4B549e3lDcGb0RpafeSkOfs5GpXo9ApAJaUBVvOjVL/QBKCS0kBvbB3o8anEoAlAJZ1/fbydVaUDez7e50t2s2hrVX+HoRKctgGopPOntzcemJJxoLpv/lZ217Ry0viC/g5FJTC9AlBJZ6D1/Q9nkISpBjFNACrp9NfELz010O5RUIlHE4BKOoPmCmCQxKkGL00AKmm8u66cc/66kMAgyQBr99Yz6673qWsZGKOVqsSjjcAqaWwqb2TDvsEz9eKO6hYgeHNYbroOEa2iT68AlBrgBkubhRp8NAGopGENkqqfjvprsnqV+DQBqKTQ4vXjH6QJwO0P4PVrFlDRp20AKinM+dOCQdP429G1T5Rw9pRh/O7io/s7FJVgNAGopLB/lM3BqKrJO6jjVwOXVgGphJcIN1QlwmtQA0+3CUBEHhORChFZE6Z8koh8IiIeEflhm+WjRGS+iKwXkbUicmubsjtFZI+IrAj9Oy86L0epQyXCuTMBXoIagCK5AngcOKeL8hrgFuBPHZb7gR8YY44ETgBuEpHJbcrvMcZMC/17owcxKxWxgGVoGSCTvveFZYxOGK+irtsEYIxZSPAkH668whizFPB1WF5mjFkeetwIrAdG9i1cpXrm6SU7Oe3u+f0dRp+t2VPP0Xe+w+6alv4ORSWQuLQBiMgY4BhgSZvFN4vIqlAVU1484lDJZ1+Dm6qmwT+UQlWTl4BlqGrSxmAVPTFPACKSCbwA3GaMaQgtfgAYD0wDyoA/d7H9tSJSIiIllZWVsQ5XJZhB2vMzrER7Pap/xTQBiIiT4Mn/KWPMi/uXG2PKjTEBY4wFPAzMDLcPY8xDxpgZxpgZhYWFsQxXJaBEaABuL+FekOpHMUsAIiLAo8B6Y8xfOpQNb/P0YqDTHkZK9VWidZ/UKwAVTd3eCCYizwCnAQUiUgrcATgBjDEPisgwoATIBiwRuQ2YDHwO+DqwWkRWhHb3s1CPnz+KyDSCX2d2ANdF7RUpRbD3zwV//4jWBOgB1NYvX17DKRMK+PkXJne/slLd6DYBGGMu76Z8H1DcSdFHgITZ5usRRadUL3n9FuvKGrpfcZDZsK+R/EwdGlpFh94JrBKSlWBVP23p6KAqWjQBqISUuKd/nR9ARY8mAJWQEvoKIHFfmoozTQAq4SzZVs09727q7zBipqHVx/efX0GD29f9ykp1QROASjhvrd3Hvz7e0d9hxMyGfY28uHwPa0rr+zsUNchpAlAJJ4Frf9pJkpepYkgTgEo4iXbzVziJ3M6h4kMTgEo4ydJImiyvU8WOJgCVUD7ZWk2zJznGzd9R1cyWiqb+DkMNYjonsEoYDW4fVz6yOGnqxn/z+jpmHJbHc9ed2N+hqEFKE4BKGF6/lVTVIgHL4PbrbcGq97QKSCWMZGwUTZYGbxUbmgBU4kjCc6Ge/1VfaBWQShjxrP4ZQgMn2tZxun05fmPnFPtqFltHssoaR4PJ4AXrFMIMhhtVyXjVo6JHBtMl5IwZM0xJSUl/h6EGoMc/3s6zS3ezYV9jzI/1T+dfGCINHGfbRMAIdjn4N+Q3Nhxi8UHgcyywpvKvwLkxjaUgMwWXXXjimuM5fGhmTI+lBi8RWWaMmdFxuVYBqYSwYV9jzE/+F9s+5KOUWzjbXsJxtuBYQ21P/gAOCTbKzrav4g7nk6xJ+RaF1MYspqomD3vr3eyoao7ZMVTi0gSgEkJsq0IMtzue5h7XAxRLVY+2zBQ3D7j+xgW2RTGKLUirglRvaBuASgixqv/PoJXRUsH1jtd7vY8Ztk3McG1ih2cYq824KEZ3UDJ1f1XRo1cAKiHE6hvwk67/x5spP43Kvl5L+QVn2mLThjWY2vLUwKEJQA1qxhge/3g7tc3eaO+Zm+wvM922Jap7/Y7jfzFJAst31bJgY0XU96sSm1YBqUGtrN7Nna+ti/p+C6njR87no77fmbaNzHRtZIz76aju9+EPt/Ph5ipOmzg0qvtVia3bKwAReUxEKkRkTZjySSLyiYh4ROSHHcrOEZGNIrJFRG5vs3yIiLwrIptDP/P6/lJUMgrEoPL7ZNtqfuSI/sm/rb85/0EeDVHdpzYEq56K5ArgceAfwBNhymuAW4Avtl0oInbgPuBMoBRYKiKvGmPWAbcD84wxd4USw+3AT3rzAlRyi8VJ79+u/xfRehtcTirtdt7KSOcIrw+fCIWBAJ9vbiGrm7gusi9in8nj//mvjEbIgDYEq57r9grAGLOQ4Ek+XHmFMWYp0HGC0pnAFmPMNmOMF3gWuChUdhEwN/R4Lh2Sh1KRiu5Jz/A9x3+7XKPOZmNViouZhxVz6bAR/Kv+SALrp7Bz/Yls3jqdR/wjOemwYr46ooidDschfxRtzbat4gu2xVGLXq8AVE/Fsg1gJLC7zfNS4PjQ4yJjTBmAMaZMRMJWXIrItcC1AKNHj45RqGowClgGbxRHw5wsO7nV8WKnZQbY5HRyzfChHLW+iCtXjSZgWjCmNbRGKxnA0Moi7JKD3+nku5PXckJ2JV9vaGSU/9A5CibZdnOf617+5z4hKvEbAx5/gBSHPSr7U4kvlr2AOhsIpcdfUYwxDxljZhhjZhQWFkYhLJUo/vj2Bq58JDrfoIfQwHjZ22mZAd5PT+OnjOfL757AhF0Z+K167JKFPy2LiqEuNo8JUJ3vRFyFgA3xVjF7RTEpS2fxpYKRdNVHabpsQuh7Iqts9HD0ne+wdEfYC3al2onlFUApMKrN82Jg/19YuYgMD337Hw5o/zXVY2V1bqqaotP9c37K98mRlk7LvjlsKKM/O5JZdU4CVGG3F/DOMZvZPXQrX6tv4ASvjyq7HWs47HI4eC0zgxM2jmLKjqH4vRVcvmAq147P5cz8rVzZcOgMXi+m3MnvfZfzUOCCPr2GptBMaGX17j7tRyWPWCaApcAEERkL7AEuA64Ilb0KXAXcFfr5SgzjUAkqmnXenZ38623Cwxk5TPlkFnZ3FTbJYOXhlYwtWsDvm5qZst2Ls5N93VlVwwsFtfznsG0cvfxosuqbOXpLIYvdmbiLV3FN/aFjFk20lUIgOq9FbwpTkeo2AYjIM8BpQIGIlAJ3QPBzb4x5UESGASVANmCJyG3AZGNMg4jcDLwN2IHHjDFrQ7u9C3heRK4BdgFfieqrUkkhGue5dNz82/X7TsuezcjCWTIHv1WF01bIK6d8xm0t5VxQ3fmVwn5O4LLGJi5saualSU283DyZk9YOZUypn+0tJ1A1Yh4FgfZVPl+yf0iDSefX/qv6/Jq0MVhFqtsEYIy5vJvyfQSrdzorewN4o5Pl1cDpEcaoVKeicQ/ATNuGTu/2/XFePiOWnErAqgJXIa3T3+eR2ibG+iKfcD7dGK5saGJY+mqeP7aYScuOJK+mjr9bczhmwmK+2NR+BM+rHW9HJQEEdJZIFSEdCkINOr6AxW9eW0dVk6dP+3HiJ6WTjpr1Nhv5n51CIFAFzkJ2zPyQH9fX9ejk39bpLa38wrONNceswmbLJbsuwDsVn6NFDu0nkUULfZ3a7KPNlTzz6a4+7UMlB00AatDZVtnMYx9vp2Rn38bZf831c/7puqfdsgVpady3/SwcrdU4bIXUH7eAv1dX9nlur1H+AI+27uCtGduwSQaH78zkWv/UQ5LA6tRvc6V9Xp+O9fKKvdy/ILpjGKnEpAlADTrRquOeZNvd7rkFLKueREqLG5stn+Kj3+fHddGdzOUB9wZ843dhsDh282g+M9mHrHOmbVmfj2NpNZCKgCYANehEIwEcJdsOWXZdylhsu4YjksJHUzdyibeOzCg3qI7z+bkoYwNV+QEsU8uyDZ/ngZz2SSBHmhkl5X06jvYEUpHQBKAGnb6e22bKel5P+UW7ZfWWMHn1NCzTRHNxPc+418dsSveJXh93FH2AP60Qn6li76YT25UfY9vChynf69MxdFwgFQlNAGpQqW32sq+PNzqNksp2z9e7nNy/+xysQBW4hjC7cAWuCPe11DqC5dbhPOY/h1cCJ9FsUiLaLtUY/J9biF2GkFvj59fuI7u8W7inLGPYUtGEX7sEqS7ofABqUPm//63j9ZVlvd6+kFqGSfuhEl7yjSalxYvNNoQrx73O0Nbue/v8zncFTwdOx4MTf5s/oxS8jJV9TLdt5vfOR7vcx88bqnh27Dr2bBtFzs6JrJ+yjan+gz2bpsgONplifL34M61q8nD2Xxfy98uP4byjh/d4e5Uc9ApADSoNrT68ffhWuzT1pnYTvSxzpJC5fgpgsWn8boZK1yf/b3l/yOfcD/Fw4HyaSWt38gfw4GKDGc3TgdM50f13Xgmc1OX+TszYjicjlYBVzUebT2dvm4Hc/pfyM37lCDcKe9csE7xPoqG1q/FIVbLTBKAGlWjWbQeAV3bNwmdqcaXn8Ffn8rDreoyTCe4neN+aTgOZEe2/jHxu893IZPdjYdc5zO/nu8VvYrPl43Z7+B3tJ40/po9TUmpbgOqKJgA1qPTl7t+htO/Sud6TTW69A5ttCJlHfkBKmF3/xPcdjvH8s1dVMQYbLaRyjPtBSk1Bp+tk2QxbjtgFBJiwdnK7Rm4nfnI5dOygSAW0N5DqgiYANaj0tgvoiba1fJp604Hny1NSmLfjdAyt5OXv5YrWzvv7/9B3Hc8HZtNCaq+Ou18t2Vzi+TXXejvv3fMz50pSXPkErBr+sO+kAzeITbSVsiL1ul4fV7uDqq5oAlCDQnWTh3P+upCd3QzEFs5Rsr3d83dqj8ZvVYNzKF8rWNrpt/8XAyfz38BsTJT+TCrI4x3rONzm0DFER/oDHDVxHiLZpNTnstyRFpVjPvvpbm599rOo7EslHk0AalDYVdPChn2N7KrpXQKw2vTqrwsIabuKEVJwTVjcacXOt70/4Pu+G3sZbdcmeeZ2Wh00M1CPP8eLZRpZv35Ou1GKbL2cMGZdWQMfb6nqZaQq0WkCUINCX+7+fdR5N790PhXcD3BPxefxm2pSM5x81+w5ZP37/Bcy35rW6+NF4mven/IH32XtlqUbww+GvovNlk+Dz8Of7GMOlG1L/Rpftn/Qq2NFY9RUlZg0AahBoS/nsNPtB6tAtpNCbn0KNsmmaOJHna5/t/8yAsR2Xt0dZjgPBC48ZLndDhVjdwFeXBuntyv7geM/vTqWnv9VOJoA1KAQjW+xLSK8v+U0LNNIdlYLF7Y2tCv/k+8rnO65u8/H6Ylven+Mp0ObwK1pK0mxFYCvmrerJxxYbvVycApLM4AKQxOAGvDe31DOW2v29Xi7dNzc7nj6wPPHnENp9FnYbAV8bfj8Q6ZzXGBNZasZ2cdoe2aBNY0l1qR2y4YFAhwxfglgZ33V0Wx0BiMdKdVcbX+zx8cIGMPf521mdy/bT1Ti0gSgBrzHPtrB44t29Hi76xyvcb3j9QPPA+tnYnDTPLyClA6f/B94r2eNGUd/uMV3M7d62zc4z3SVYVxZBKxKSiqOPrD8DueT9HTCmBZvgD+/u4l31/VthFGVeDQBqAGvt9U/KRwc1mFR8zD83mZctqH8JPvjQ9Z9wTq11/H1VR1ZvGKd3G5ZrmXx9RHzgBSqyw+j1H6wTaKzWcwioXMFq440AagBrzd3s+bSSAatQLDuf3HZLMBP9ugN7ap+/uU/m694fhWdQPvol75v4jcH/ySL0pqw0tPxmSoeqZp5YPk4KcPViySgCUB1pAlADXi9uZt1Rep1fN3xHgBLW4oxvhrstnxOzd7Ybr0nAmex1EzqbBdx92TgLErMxHbLRh2+CJF0cssLD0z2/mbKT/mz84Ee71/bglVH3SYAEXlMRCpEZE2YchGRe0Vki4isEpHpoeUTRWRFm38NInJbqOxOEdnTpuy8qL4qlRAsy/Dqyr34Ar0/c7lFWLtrBhBgztBlh0zsXm7y+hhldD3ib/+ncJmvilyXi4Cp5eU9Mw4sP9u2tMf73lvXyqKtelOYOiiSK4DHgXO6KD8XmBD6dy3wAIAxZqMxZpoxZhpwLNACvNRmu3v2lxtj3uhF7CrBLdtVyy3PfMaK3XW93scj/rG0WjWIs5CpebvalY1xP93nMX6i7T3rWMa4n2637NhxCxDJZHfzcFa4glPVWL24eH/ik53c8O/wI56q5NPtp8gYsxCo6WKVi4AnTNBiIFdEOs5AcTqw1Rizs/ehqmTj8fV8+IOh1PJ3570Hnlvbgj1ocovbX8CWmSF9Cy6OJtOIpLkImDpWlE4DIFV8/MbxL3raI8jjD0Q/QDVoRaMNYCSwu83z0tCyti4Dnumw7OZQldFjIhL2OlxErhWREhEpqaysDLeaSkC9afz9sfM5LrAvBmBLXSE+fz0p9gK+lXqw7v8G761c6Plt1OKMhfM9v2WFNR4AJ3Dd8HcQSae+ehjNoRvCvuF4lzQ8XezlUJbOEKnaiEYC6Oz2xAN/uSLiAi4E2t7H/gAwHpgGlAF/DrdzY8xDxpgZxpgZhYWFUQhXDRa96bVimeDHsUWE1ypPBgIUjl7Xbp2PrSlUkhuFCGNnjRnHHpN/4Hm6qxVJd+Gnlgerjj+4vKcJQHsCqTaikQBKgVFtnhcDe9s8PxdYbow5cBeKMabcGBMwxljAw8BMlGpjZ3Uzu3o49HMB9aRLcML4Zd4CLH8Ddnshn884+O3fMkIz0RlqOdae8J/d7vnksR8hkoq9etiBsUEPl72k9iAJBIxhxe46mjzdz3usEl80EsCrwDdCvYFOAOqNMW1n7b6cDtU/HdoILgY67WGkktdPX1zNHa+u7dE2Jak3cL59CQAbt58EeJmVt47CNnMIj/M8FfOB3qJliTmyXYPw2YFachwuAlY1C0qDA8U9l/J/POT8S8T7NAa+8uAinlu6u/uVVcKLpBvoM8AnwEQRKRWRa0TkehG5PrTKG8A2YAvBb/M3ttk2HTgTeLHDbv8oIqtFZBUwB+h8miSVtJr78A31ORlKvdWCzZ7PcYUbDixvNIPjm39Xjhv3IZDCquYx7HAEZzI41b66R/vwBQwtegWgoPtJTo0xl3dTboCbwpS1APmdLP96pAGq5NSXuWzLt50EppqUodUHlv3NfwmvBk6MRmhxd4P3Vm51vMgk224m2xp4NyWDgKeShdVTGJOzslf71LmCFeidwGqACvSgt8owqvm1418ANLSm4/d4cEguN+Qc7PP+gP+CuI/0GS1vWscfGDHUAVxdNB9wUV92cPC6nzqeoiddQnWIaAWaANQAE7AM8zdU9OgE9Rvn41zleBc/MHffmRjTxJCCMqRN/zQ3rugHG0fbzcFmsyEZDThd2XhNFU/XHwnAdY7/MazL23Xaq272smxn5OurxKQJQA0oi7ZWcfXjS9lY3hjxNvZQn5i1tgx8HgubZDG7aAUAPmPnfM9v6by38uAxN3AWl3t/fuB5wdilgJPy8kkHvvc7JfJ6/aeW7OKKh5dEN0g16GgCUANKq7dnd6qm4EVCp8DPts3GmDompFczOhA8GTaT2m/j/EeTwcYn1pQDzy+3lZJhy8UKVLO6rhiAAhqwE/n75/FbvRpoTyUOTQBqQOnpjUobU7/J5+0r2I6LWrcLkQzOHnnwm+3LgVnRDnFAEODo4mWAsLD8OLzASyl38KDzrz3aj04Yn9w0AagBpSeNv229um82lqlGsrw4Q938j3Pfx2/834hecAPAke7H+If/IgBmZuzEZi/EY9XyeiDYRnCmfVmP9qe9gZKbJgA1YCzYWMGynbU92CJ48rIsMPXZCKlcMWzhgdJKcns1auZA1koq3tAk8k5g5pDVgMW+7TO63C6cF5btYWd1c/QCVINKYv11qEHtrjc38NjH2yNat4B6brS/CsC7e08gYFWQnSoU2ds2hA7uht9wFlhTDzyeVbARp20orb5mylozAbjG/gaRdgn92Uur+e+y0liEqQYBTQBqwPD3oD76z84H+LHzOcrtdjY0FwMupo5bBMAGa9QhY+onklVmfLvXlzJsJ+Dj2X2zAfil899MlMiHeujLhDtqcNMEoAaMnvT9z5UmAD6qPgq/VU6qM5VjTXCZneQa8/iSIctw2Iqw3B6q/cH7HRw9eA90hNDkpQlADRg9aZAMhD66ZfsmAA4uHbHwwIf5Xv/F0Q9uAHojEBxEtzBgMTpzH+DhrZ2nAPRshFDtCZS0NAGofretsonLHvqEhlZfZOunXMl02xaebZqIx1TicGZRmB68cWyM+yles06KZbgDxo2+2/iJ7zsAzBn5MXZbIeU+O+slhRdSfh3xxPGLtlbz7bklOjxEEtIEoPrd6j31LN5WQ21LZAnAJsETVXnZUQCML247z21iNvyG4wjd+JWLIS29GWNaWbgnOGHMl+wfRrSP9WUNvLe+nFafTheZbDQBqH7XkzroFLwA7Kgvwu+vJs2Wx/mpwV4sy63DYxLfQDYvcAytJljv/62id7HJEFoa0nt1P4XeE5B8NAGofuePsBdKPvVcaZ+HH3i94iQgwNiRwbmEPgpM4RLvb2IX5AC1j3yO9DwOgNNlkZpuYZlmnt8XbB+41D6fSLuEBrQ3UNLRBKD61c7qZioaI2uwvN/1N37lfJKPzRA8/gbstgJOydoKgEOSq+dPOFPGfIBIDvsaCvAb+KPzYY6Tjd1vCGwqb6Q+wnYYlRg0Aah+dd2Ty7j77chOUCOlCoCN24LTPZ6UvYlMYyg1BfzJ95UYRjnw3ev/Ik0mlVOtBvLtTizTyLzKYBtJikR2Uv/qQ4t5eOG2WIapBhhNAKpfNbojH8LYb+yU+VJp8nlx2AqYOTw4Z/DJnnspMZNiFeKg8Bf/pXzX910AZh02H5EMNtQcho+DDcWRaHTrFUAy0QSg+lWkfdB3pF7BGFs5z+/9PMa04szfF+PIBh8nwWQ63lWH3ZmD3zTwXNNEHnf9kQed90S0D20ITi6aAFS/imT4h/0ntha/g0BrALsM4eq8TwB4KUGHe+6NxdZktlgjEOD8wgUgqVTvCfaMOse+NKJ96E1hyaXbBCAij4lIhYisCVMuInKviGwRkVUiMr1N2Q4RWS0iK0SkpM3yISLyrohsDv3Mi87LUYPFit11nPu3D2nydF/lkEULAK/tno0xLRRl1pBmh5cDJ/E9302xDnXQaCCDM7x/AmB8djlp9nz8VgNbakZEvI9FW6u58B8f4fHrPQHJIJIrgMeBc7ooPxeYEPp3LdDx9sM5xphpxpi249XeDswzxkwA5oWeqySyoayB9WUNuH1d994ZI2V81/ESO8TJHk8KNsnl1OLgoG89qdtORvmjSwAXr1UfA8Ct9he6nTFsZ3ULq0rraWiNvG1GDV7dJgBjzELocrbpi4AnTNBiIFdEhnex/v5t5oYezwW+GEGsKoFEOvLnU67fc7XjbeaXnoQxjRSktTCSAMutw7nH/+UYRzk4/cx3DdutIi5K3UqqrQjL38jqlgK+53yBc2xaFaQOikYbwEig7dizpaFlELwD5R0RWSYi17ZZp8gYUwYQ+jk0CnGoQSTSE0weTQQCUN+YhU2y+eqI+QBc4v0NW83IbrZOTk8HTuf7vhtJNYZpBZ8BNhaVHgcQ8ZzBfkvvq0gG0UgAnQ2+sv+ve5YxZjrBaqKbROTUHu9c5FoRKRGRksrKyr7EqQaI++ZvYf7Gim7XG0EVgmFuxSwCph5nuoXLqSemSEjoT/DE/PU47SNoCrTwsX8IQ6SRbLqfAezv87bwwSb9e0t00UgApcCoNs+Lgb0Axpj9PyuAl4CZoXXK91cThX6GPRsYYx4yxswwxswoLCyMQriqvz320XYWbOz65OLAz6LUW0jBS31DPiKZnDl6AVUmmz/4LotTpIPXajOO1wMnYAPG5K0HDJ/tPIE7nU/wacqN3W7/XMlu3lhVFvM4Vf+KRgJ4FfhGqDfQCUC9MaZMRDJEJAtARDKAs4A1bba5KvT4KuCVKMShBolI6v+zQz1/3ts7A8uqJc8pTKSVlwOzeCBwYaxDHPR8OLjZdwsAFxR8hss2HI+3lbrWLFIjvDO4JzO0qcEpkm6gzwCfABNFpFRErhGR60Xk+tAqbwDbgC3Aw8D+rxdFwEcishL4FPifMeatUNldwJkishk4M/RcJYlI6v9zpYlmEdY3jUIkjVPGfgAk22DP0SECuQVbAD/P7I28Fjag7QAJz9HdCsaYy7spN8AhnbGNMduAqYduAcaYauD0CGNUCWJ7VTNPL9mJr5uxiq+2v8kdzid5quo4/FYVGa4cxtuaecY/h3/4L4pTtInhCu/PuMr+DhcWLmdu5cW0eOvY6c9kR+oVzPb8hZ1mWNhtd9W0cOera/nl+ZOx2zT1JiK9E1jFzfsbKnj4w+14/F0ngDucTwJQXVkMpHLFiHkI8FP/d6glO/aBJpBF1lHc7b+UHMtiYtY2wMu8nacBcKZtWZfbLt9Vx+OLdrCntjXmcar+oQlAxU1PqhRerjgWn6kiNSWV7DQ9AfWFmxQATh/xGXYZQp3Pyw5/Jt7uKwAA7RKayDQBqLjxdTPhiGDxW8ejGGBHbbDu/+TRC3g/MI1ven8cnyATUKkp4P98X8MhUJSzB2Na+d+e07nc/j5ftc/vdnttDE5cmgBUXNz+wireXtv1CJ7DqOVrjnm8u/dYAlY1uY4UpjoaKbEmssCaFp9AE5LwaOA8AL5aVIJDcvG0uhnlq+YPzoe73fp3/1vPf0p2d7ueGnw0Aai4eHnFHlaV1ne5TrY002SEdQ3FiKQzZ8w8ACrJiUeICa/UFGCzQf6QMoxp4ek9kfXD+GBTpd4UlqA0Aai46G7e38/JVm52vMwLlScSMDVkOB2MdbRwvfc2/hvo8Q3kqhMXe37NL3xXc+GwZTgkn0ZPK1t9WfzE8QwZdN3OEum8zWpw0QSgYipgGepbfd3WI7+a8kvOYzG1NYWIpPP1ke8C8JY1E6Mf06ioJI93AjPItgxHZ+8APMzfOZsbHK/xbfsbXW7rtyzqWrxxiVPFj/5lqZh6YVkpJ9/1fkTrPrvvVAKmhrQ0IT3VS5NJjXF0yaeeDADmjFiBwzaUel8Ln3kLcEjXg8R9vKWaGb99j/IGdzzCVHGiCUDFVFm9m0ZPV2PLG26yv0xLwEZFYxY2yeL80fP5le8qjvfcF7c4k4UHFzPcD2AZYXzBBsDHR7tO4Xjbes7uYqjoVl8Av2WoavLEL1gVc5oAVEx114f8CCnlR87neXnn6VimgeFpbkaJBy9OmkmLU5TJpYoc7GI4P38tKbYCvL46Chua+Ker+3mDtS0gsWgCUDHzwIKtrN7Tdc+fTFrZZGWyzyvYZQjnj5pPtclifmBafIJMUt/z3gDAuOLPAIvXKk6MaKaA/yzbzfwN3Q/lrQYHTQAqJowx/OGtDV0O+3yqbSU/dj7Hezs+jzGtjM/eQ6bNcKznn5QzJI7RJp+XrFOY4X6AczN2kGHLwRco552ao7nL8RAFhE/a/168iycX74xjpCqWNAGomOjurl+AJ1x/oLipglZPE04p4PzhJXGITO1XRwYCXDDyAyCFTZWH8xXbAm51vNDldt0N5qcGD00AKurqW32s2F0X0bov7ZsN+Bk5Yh3PBD7PFz2/iWls0SAS/Lf/sU06Xy4DfABNPw5u897IyMx6UlJS8FtVzK049cBsYuF4/RafbK2OU5QqljQBqKh78pMdXPrPT8KWZ9HC+67v82HVkXgDVaTZ87kkeyPvWdNZYQ6PY6SRaXtSB7CJ4Aid9TNcDnLTXYhAdqqTDFdwgDWHTbCFNrAN4GTwsnUylSaHr496B5tkUV+XxaXM5x5n+B5YS7bXcPnDi1lf1hDHSFUsRDYcoFI90OjuqtsnTLVtZQT7eK36RKCRM0YtRICtZkRc4ouECBgTPHnbRLDZhAlFmbh9Ac6aMoyjR+bQ7PEzfmgm+Rkuyhs8pDptpDjsLNlejS8QvAHuyU92kJfuoqzeTasvgE2CE2abAdSZ5t/+M/ie8wXyM5upbLR4aufZXD3+Tb7nO2Saj3aauuzeqwYDTQAqqsob3LR4w/cnScPNMKnh32Vn4LeqyEzJ4Ii0aia6H8eDK46RhicCLruNgGWYM2koeelOLp0xiglDs8hJd3a6zWH5GQceTxyWdeDx9888gs3ljdS3+vjre5tp8vjZXN5IszdwIMn0t78FLuGpwBm8N+JG5m66iBpvI8tahzFSKtlDAeHmYatu8tDg9pGd2vl7ogY+MQPhExihGTNmmJISbSgcqLx+i+n/9y6tvkDYaR/fc/2QIk8DD+88GRsObhz/Bi6nxRj303GOtj0RsIvgtwzTR+cyNCuVG04bz4SiTNJd0fuetLumhcomDz/57ypsImypbCJgmQGQDAw7Uq/ks8rxvF9VTIotn5snvsgdvquYGzi70y0cNuGsKUXcf+WxcY5V9ZSILDPGzOi4XK8AVNS0+gLdVgscbtvLfaWXYEwlBQUtvCin8qzn83GKMLysFAdF2al89bhRXDRtJIVZKTE5zqgh6Ywaks6735/N4m3VrC9r4NevrSMrxUFDN1VnsSV833s9dxbM5aO6o/D4K3mm6nhOzlsTNgH4LUNVo44PNJhpI7CKimaPnx1VzWHLnfj5oeM5Pqo+Are/mhRbPpcXLuP5wGn93vCb7rLzp69M5dGrjuPbp4yL2cm/oxPG5XP1rLG8/t2T+epxo+JyzK68aJ3KHlPIF8e8h0gG+6qGMt4q5Sv2BWG38QQsNpc3xi1GFV2aAFRU/HPhNi667+Ow5afblnOV7TVKKicBTs4u/giMsKWfG35PmVDAut+cw1lThjE6P71fYjhqZA4//8JkVv7qLNKc9n6JYb+/+i9hlLOZooxmLFPH+ztncrfzobDrr9xdx5n3LGR1N3M9qIGp2wQgIo+JSIWIrAlTLiJyr4hsEZFVIjI9tHyUiMwXkfUislZEbm2zzZ0iskdEVoT+nRe9l6T6Q01z+EHCUvAyRBp5atfZBEwt2WkOJmRUMd7zFA1kxjHKg04+vIAPfzyHJ685vl+O35mcdCfr/+8c/nbZNE4cl98vMbxtzWS8+0kuKv4Ip62Ael8j8+sOZySVCOFvAKvu4vevBq5IrgAeB87povxcYELo37XAA6HlfuAHxpgjgROAm0Rkcpvt7jHGTAv963owcjWgvbpyLxUN4U8Ab7l+wjeb3qG51YNTCvhW8VustMbFMcKDxuSn88cvf45/f/t4Rg3pn2/83blo2kie+vbxXD1rTL8cP4CdTDFcMPwTwMGqfZOZ77yN79j/F3ab5bvqWL6rNn5BqqjoNgEYYxYCNV2schHwhAlaDOSKyHBjTJkxZnloH43AemBkNIJWA0dNs5dbnvmMd9aVh11nuCnnzYrjAMOk4hXcaH2PK7w/j1+QId88aQyv33IKl87o//r27thswh0XTOGFG07i+tnj4378E9x/pzwzj/QMO35TyyO7z+Uce/jhou+dt5nfvr4ujhGqaIhGG8BIoO2M0aV0ONGLyBjgGGBJm8U3h6qMHhORvHA7F5FrRaREREoqK3Ve0oGmxRu+58oQGnjC+f94fufZ+K1KClJTOCtzOyutcXEd6nn66FweuHI6d144hcyUwdXx7djD8vjJORO59fQJcT3uPvLZYo3gmpFv45QCWltbcdX7+Z3j0bDbdHX/hxqYopEAOrtL5ECPZhHJBF4AbjPG7L93/AFgPDANKAP+HG7nxpiHjDEzjDEzCgsLoxCuipYXlpXyvedWhC2/yP4xLc1uKj1e7LZCLh/9Ntd5b2Mf8avfvvL40Tz17RM49+jhcTtmtIkI3zvzCF65aVZcE8Hv/Vfyo8CNzCxeCth4r/xznGX7ECedJ/3KRg8X3/8xu2ta4haj6ptoJIBSoO01dTGwF0BEnARP/k8ZY17cv4IxptwYEzDGWMDDwMwoxKHibNHWapbu6Lzed47tM04LLGf93kmAg1OGL6HVlsbbVnx+1dNG5XLPV6fyu4uPJs3Vvz1romXqqFxuO2NC3NoGWkjlFetkTsgsZUSGRcDU8sLWc7nTMZdiOXROgOpmL5/tqmPtXu0RNFhEIwG8Cnwj1BvoBKDeGFMmIgI8Cqw3xvyl7QYi0vbr2MVApz2M1MD11pqyLicJf8x1N2t3TcQydRRkeVmePpVLvL+OS2zHjM5l7rdmcvExxXE5XjyJBNsGnvjWTD4/aWhcjvkd7/c5qng7Lnshzf4abNXN/NV5f9j11+1tYGWEo8Gq/hVJN9BngE+AiSJSKiLXiMj1InJ9aJU3gG3AFoLf5m8MLZ8FfB34fCfdPf8oIqtFZBUwB/heFF+TirG9da1c/+/lzOtkZigXPq60v8dLO06mNVBJiiOfK4o/4H7/hWw1se0D4LQLN5w2npdunEVOWmKPT3PqEYU89s3jmFiU1f3KffSuNYMl1pGcN+5tbJJNWW02WU1NnG37tNP1731/C7e/uDrmcam+67ZFzBhzeTflBjhk2EBjzEeEGUXKGPP1SANUA4vbF2Bfgzts+ZX295jdsIhlrWOwSQZfH/MGv/R9m1qyYx7bottPj9tdvAPF2987lWc/3RXzE+5f/V+iwp7LzMKVrKwYylt7j+P3h9/HAmtap4P4NXv81DR7yUt3IgN1LGyldwKrnvnDWxu49MHOx/o/0baWk1rX8FnlkSA2jh21mu32Yp4NxHasn9lHFLLjri8k3cl/v8tmjmbHXV+I6TGaSOehwAWckb+OIZlO/KaG/2z5ArfYX2AEVYesv6umhZm/e4+Pt+jEMQOZJgDVI3vrWvGHGenzX7bfs2HvOCzTwLD8Jua5TuU73h/ENJ5Pf346c7+lfQgAdtz1Bb5/5hExPcbFnl8zckQNTlcBzaaa9J1eHnD9tdN1/ZZhb31rTONRfaMJQEWkqsnD0Xe8zaJOpgIcQgO/dvyLJ7ZdgNdUkJmWyRWFn/BU4HQqCXuLR59MLMpixa/OZGhWakz2P1jdPOdwPvvlmTHb/2dmAq8HTuSKca9ht+VT43NTsTuP79pfhE6mkvz9G+v52iNLDt2RGhA0AahuWZZhd00LjR5/p7N9Xe94DfceO42BWpyOoXxp1EJO9dyDP0ajjb912ym8eONJ5KYPjAlkBhKbTcjLcLHkZ6fz9RMOi8kxXrVO5DLv77lg3AeIZLCqJZep9WsZSt0h69a1+NhY3og/YDGY5h5JFpoAVLfufG0tV4b5Fvc7x6Pk7G2mqaUZpxTwzbGvcGfganaboqjHMSw7lde/ezKThmWTMcju6I23ouxU7rhgMi/eeFIM9i5sMcWssE1hTvEaROysqhrNP7x3c77t0PahykYPU3/9Dgs3H9pWoPqXJgDVpY37GtlW2XzIbf6CxQQpJbOsidJmsEseF41/hxn+R3ndOjHqcTx/3Yn875aTOWpkTtT3nagcdhvTR+fx5q2n8MVp0R92+we+G3k+5UwOLyrFGD8f753MjzzPMEbKDlm32Rtg1e469tRpm8BAolNCqrA2lzdy5j0LOy272v4mkyq2UtrgwiZZfHH0Yv7u+BIvWqdGNYb8DBd/+eo0Zh+hw4D0hddv8fbafXz3mc+iut8UvFxjf5PPVW5mbX0ONslgzsgSrnbe2WnX39FD0ln44zlRjUF1L9yUkHoFoDr10eYqnlu6u9OyG+0vc2T5jgMn/zljP+V+58VRP/k/etUM3rztFD35R4HLYeOCqSN4+aZZfGl69O6Q9uDi/sBFZBZ5OGxIC5ZpZv6e6fym9Z+cYlt1yPrlDW4e+XAbZdo7aEDQilTVqXvf38yn29uPAu7Az9GyneK9lexusWOXLM49bBHnm3vwBaL3URpbkMGvLpjMnInxGeogmUwblctRI7I5cXw+P/zPyqjt92u+n3F2Xgln2Bayq8rG5vIivj/0OaoyclhvDjZGe/wWv/3feixjuPbU+A9zrdrTKiDVzrbKJi78x8cELEOrr329/23yHGm7LJr8ddglnxOL1/KA62IWWNOidvxHr5rBjMOGkJOe2EM5DATryxp4beVe7l+wNSr7s2FxqX0B59QvZlnlcMAwLq+Be/IuZ1eHTgE5aU5G5Kbx5q2nROXYqmvhqoD0CkAd8PbafXywqZImT8eunoZHze9Zv3MSTVYFLnshR45dy53Wt1hvRaer4VmTi7hpzuFMHZUblf2p7h05PJtJw7I49rA8rpnb9y9WFjaeDXwee47FKfYlrC8fw7baNL7Z8jZVxVncb118YN36Vh/1rT4e/GArZ08ZxtiCjD4fX/WcXgEojDF8truOX7y0hnVlDe3KjpJtfK31Ncr2FWKZetJScjlx1AouDvwhasd//bsnc0RRFi6HNkn1l4oGN8t31XH9v5dFZX/DqGYuv+StnXPwW1Wk2QrIHl3Jb+Ua3LQfsuOak8dy6YxRTBwW+4HtklW4KwBNAEnO4w+waEs1Vz9+6HR/35A3OXxvBZVuL4iDomwvJQVTeNmaRZhx/nrk7i9/jrMmD9PqngGkvMHND/+zkg+j0mff8IjtD2zYPQ6PtxqbZJNd0MJ72SfxiTWl3ZppTjtLf3EGaU47dpsOHhdtmgBUp772yBIWb6tuN77PYbKPL7W8jZSn4zVV2GUIs4uWc0Paj9nHEPp68v/itBH89bJj+hi5iqVGt48v3PsRu/o4u1cqHibJbq6seZPd9dkY4ybbkU15cQpz5UJ8bWqhnXbhZ+cdydWzxvY1fNWBJgDVzrKdtXzr8aU0un0cPPcbLuNdDt9bSb2nFTBkpGayc3g+8ziOij6O63P97PHccNr4hB+rP5GU7KhhwcZK/jF/S5/2c7iUcrP7v+zaV4zPqsQm2aRn+Xm/YCZLzJEH1stKdZCd6mT+D0/TKsEo0gSgMMbQ4PZz41PLWLW7nsY2jb3HWhs4p/JTmlrtWKYBhy2fsUV7+FvapWw1I+jLt/4/fOlojj1sCIcPzYzCq1D94ZOt1Tz60XbeW1/e631k0Mp42cuV1W+xpyEbY5pw2QqwFbTycMbF1HGwDSA71cEtp0/gKzNG6ReGKNAEkOQ2lzeybGctd7y6Fo/fAoLDOeQH6rih+nUaW1wETC02yaYwo4X/5s9mo200rfRutM0Tx+Vz/tThXHbcaK3TTRDGGAKW4ZevrOGZTzu/STASeTRwifUBBWXNtHibAB8uWyH2XDf35XyJZtIOrJvusvPkNcczJj+d/MzknO8hGjQBJKk9da28tnIvj3y4jaqm/XP4Gr7sfY/xlTW4fT4s04hIBunpNrYPHcpznNXr451xZBFXnjCa044o1JmgElhNs5cd1c1ccv+iXu/DToCfeP+FvzybVn894Mch+ViZho+HTKHEdtSBdc84soipxTncOOdw/ULRC5oAkkizx8/Wyibufnsj2yqbDwzANS2wnlNr1uBsEbxWLeDHLnmkpfpZVVTMW3IKAew9Pt60UblcOHUE3zxpDDb940w6e+paWbKtmu8/37s7iwuoZ05gEeP2NdDqc2NMCyIZpNpS2ZudycLsY9hlGw7A4UMzufiYkRw3Zggzxw6J5stIaJoAElyj28eumhYe/Wg7u2taWLqjFsHi3NZFHFFfht0jeK16wAukkGLPxuR6eDjzApptGT0+8Z89pYjjx+Zz9awx+k1fHVDe4Gbe+grueHUNvkDPzi0peDnSv5Wzapbja3Xht6oBg02ycNpSaUpzUJJzBCWuyUDwqmD2EQVMGp7NjMPy9HPYBU0ACaai0U1Dq4/Ve+p5Zsluqpo91JVvZ1bjesa3VGH3gd9yY5ngjV0iqbgkC0nz8krBTEptxbT0oH7/9ElDmTNpKMOyUzljcvTH+leJp9njZ9HWauatL2f5rlo2lTdFvG0RNRzp3chx1Tvxe+z4TS0QAOw4JAeb3YE7xcaajJF8kjqViaOHcvzYIYzMS+OiaSNx2oWsVG083q/XCUBEHgPOByqMMUd1Ui7A34DzgBbgm8aY5aGyc0JlduARY8xdoeVDgOeAMcAO4FJjTG13LyLZEoAxhoZWPx5/gIpGD2+t2UegqYbyFR+SUrmbfHczTp9BLAgYX+hkb4W2duGUbGxOQ3OmjeezZlNvy4tolq5xhRmMzE3jq8eNYsqIHLJSHRRoA5zqA2MMlY0eNuxrpL7Vx0MLt7F6T31E22bRQlFgD1+oW4azxYE/4Cdg6jn4WU/BLhnYbA6MDTwOG/UZuVQOnci0E49naP4QivPSmFqcS8AYMlz2pLta6EsCOBVoAp4IkwDOA75LMAEcD/zNGHO8iNiBTcCZQCmwFLjcGLNORP4I1Bhj7hKR24E8Y8xPunsRgykBBKxgjwnL66Gyupzmmhq8zY1U19Tjb6zH01xPQ2MLgZZW/C0tuBs94PES8PkxfgsTMGAMGDAmgIUfgxdj3HSce1UkA7ukYRcbfpdha0Y+qzImsNPW9bC/p00sJD8jhfFDM5g1vgDLGI4cno3LbtO6fBVz3lBvtI+3VmFZhqomD88u3U2j28+WivBXC4LFFP9GpjVtpaDVjd0nWJafAK0Y03GYaRsiadhIQcSGYMPYBLER/FrqsGFLtYPLhT01lYzMFBzpWWRmpZOTn4czM4+8gmHk5Q/FpKSRk5lBamoKBgZVY3SvB4MzxiwUkTFdrHIRweRggMUikisiwwl+u99ijNkWCuDZ0LrrQj9PC20/F1gAdJsAeuu+b3wbr3f/HY3mkP9p97izZcHHwVzZ1TYdywwHv6X0hhORFGw4sUnwsZEsLLvgddjYlTKUNRljqM4YTZPHz9TiHPIyXNS1+Ljg8AJSnTZqW3zMPqIQERCEo4tzCFiGIRk6n67qX/tv9Go77PdXjxt94HFpbQs2ERrcPkp21FKUncrumhZWltYxPGcCO6qamb+nntx0J+vKGjDGMN27lvHuvQxxt5Du82MLCMaARQDL+DH4MH4v4DsYSOPBh5Hf92wL/ZPQP1uHq4qOyaH7552nk4NLiyaN5Yo7fxdxhJGIxmigI4G2nYJLQ8s6W3586HGRMaYMwBhTJiJhB34XkWuBawFGjx4dbrUuOVIdBHwptH/TDR1/Cd1fFcrB7eTg9odsJm0eiEEk9I1DBLtdMDYbYrdhdwiWzYE4naTmpOJLzyQtfxgjDxtDXdYo8rMzKcrNoKLBTWFWCnkZLnbXtDA8J400p51mr58hGS5sIjjtknSXtSqxFeelAzCCNCYNO3R2sbaMMTR7A7js51HX4sXts8hOc7C7phWXw0ZOmpMtFU2kOG2k2S027ywno6YUX8UeaiqqcbobCbg9tHo82AJ+/H6LgN8Cy8JYVvDLn+HAVTmhp+0ed1x4SJBdLd5f2Nk5KliWltP1e9Ab0UgAnZ11Dj27HlzeI8aYh4CHIFgF1NPtAa576MHebDZgtL2Dtm1dvA6iplSQiJCZEjydDc0+2LkhN/3gle6wnIPLjxpVALQfkC4ZRWOwjVJgVJvnxcDeLpYDlIeqiQj9rIhCHEoppXogGgngVeAbEnQCUB+q3lkKTBCRsSLiAi4Lrbt/m6tCj68CXolCHEoppXqg2yogEXmGYINtgYiUAncATgBjzIPAGwR7AG0h2IZydajMLyI3A28TbG9/zBizNrTbu4DnReQaYBfwlSi+JqWUUhHQG8GUUirBhesGqgNuK6VUktIEoJRSSUoTgFJKJSlNAEoplaQGVSOwiFQCO3u5eQFQFcVwokXj6hmNq2c0rp4ZqHFB32I7zBhT2HHhoEoAfSEiJZ21gvc3jatnNK6e0bh6ZqDGBbGJTauAlFIqSWkCUEqpJJVMCeCh/g4gDI2rZzSuntG4emagxgUxiC1p2gCUUkq1l0xXAEoppdrQBKCUUkkq4RKAiJwjIhtFZEtovuGO5SIi94bKV4nI9DjENEpE5ovIehFZKyK3drLOaSJSLyIrQv9+Feu4QsfdISKrQ8c8ZKS9fnq/JrZ5H1aISIOI3NZhnbi8XyLymIhUiMiaNsuGiMi7IrI59DMvzLZdfhZjENfdIrIh9Ht6SURyw2zb5e88BnHdKSJ72vyuzguzbbzfr+faxLRDRFaE2TaW71en54a4fcaMMQnzj+Cw01uBcYALWAlM7rDOecCbBGcsOwFYEoe4hgPTQ4+zgE2dxHUa8Ho/vGc7gIIuyuP+fnXyO91H8EaWuL9fwKnAdGBNm2V/BG4PPb4d+ENvPosxiOsswBF6/IfO4orkdx6DuO4EfhjB7zmu71eH8j8Dv+qH96vTc0O8PmOJdgUwk9BE9MYYL7B/Ivq2Dkxib4xZDOyfxD5mjDFlxpjloceNwHqCcyYPBnF/vzo4HdhqjOntHeB9YoxZCNR0WHwRMDf0eC7wxU42jeSzGNW4jDHvGGP8oaeLCc7CF1dh3q9IxP392k9EBLgUeCZax4tUF+eGuHzGEi0BhJugvqfrxIyIjAGOAZZ0UnyiiKwUkTdFJF4TlhrgHRFZJiLXdlLer+8XwZnkwv1h9sf7BVBkgrPeEfo5tJN1+vt9+xbBK7fOdPc7j4WbQ1VTj4WpzujP9+sUoNwYszlMeVzerw7nhrh8xhItAUQyEX1UJqvvDRHJBF4AbjPGNHQoXk6wmmMq8Hfg5XjEBMwyxkwHzgVuEpFTO5T35/vlAi4E/tNJcX+9X5Hqz/ft54AfeCrMKt39zqPtAWA8MA0oI1jd0lG/vV/A5XT97T/m71c354awm3WyrEfvWaIlgK4mou/JOlEnIk6Cv+CnjDEvdiw3xjQYY5pCj98AnCJSEOu4jDF7Qz8rgJcIXla21S/vV8i5wHJjTHnHgv56v0LK91eDhX5WdLJOf33OrgLOB640oYrijiL4nUeVMabcGBMwxljAw2GO11/vlwO4BHgu3Dqxfr/CnBvi8hlLtATQ1UT0+4WbxD5mQnWMjwLrjTF/CbPOsNB6iMhMgr+b6hjHlSEiWfsfE2xEXNNhtbi/X22E/WbWH+9XG68CV4UeXwW80sk6kXwWo0pEzgF+AlxojGkJs04kv/Nox9W2zejiMMeL+/sVcgawwRhT2llhrN+vLs4N8fmMxaJluz//Eey1solg6/jPQ8uuB64PPRbgvlD5amBGHGI6meCl2SpgRejfeR3iuhlYS7AlfzFwUhziGhc63srQsQfE+xU6bjrBE3pOm2Vxf78IJqAywEfwG9c1QD4wD9gc+jkktO4I4I2uPosxjmsLwTrh/Z+xBzvGFe53HuO4ngx9dlYRPEENHwjvV2j54/s/U23Wjef7Fe7cEJfPmA4FoZRSSSrRqoCUUkpFSBOAUkolKU0ASimVpDQBKKVUktIEoJRSSUoTgFJKJSlNAEoplaT+PxChdfsHUPJDAAAAAElFTkSuQmCC\n",
      "text/plain": [
       "<Figure size 432x288 with 1 Axes>"
      ]
     },
     "metadata": {
      "needs_background": "light"
     },
     "output_type": "display_data"
    }
   ],
   "source": [
    "for ntt in range(nt-3,nt+3):\n",
    "  dt = trange/(ntt-1)\n",
    "  u = np.ones(nx)      #numpy function ones()\n",
    "  if (pulseShapeChoice == 1):\n",
    "    u[int(9.75 / dx):int(10.25 / dx + 1)] = 2  #setting u = 2 between 0.5 and 1\n",
    "  else:\n",
    "    for i in range(len(u)):\n",
    "      u[i]=u[i]+np.exp(-1.0*(x[i]-mu)**2/sigma**2)\n",
    "  for n in range(ntt):  #loop for values of n from 0 to nt, so it will run nt times\n",
    "    un = u.copy() ##copy the existing values of u into un\n",
    "    for i in range(1, nx-1): ## you can try commenting this line and...\n",
    "        u[i] = un[i] + viscosity * dt / dx**2 * (un[i+1] - 2.0*un[i] + un[i-1])\n",
    "  plt.plot(x, u)\n",
    "  print (\"Integral = \",u.sum()-len(x))"
   ]
  },
  {
   "cell_type": "code",
   "execution_count": null,
   "metadata": {
    "id": "e3jFHnvZb2e6"
   },
   "outputs": [],
   "source": []
  },
  {
   "cell_type": "code",
   "execution_count": null,
   "metadata": {
    "id": "V8261kZ96I6b"
   },
   "outputs": [],
   "source": []
  }
 ],
 "metadata": {
  "colab": {
   "authorship_tag": "ABX9TyMxCMXptwum57XeQ829fBfV",
   "include_colab_link": true,
   "name": "TravelingWaveConvection.ipynb",
   "provenance": []
  },
  "kernelspec": {
   "display_name": "Python 3",
   "language": "python",
   "name": "python3"
  },
  "language_info": {
   "codemirror_mode": {
    "name": "ipython",
    "version": 3
   },
   "file_extension": ".py",
   "mimetype": "text/x-python",
   "name": "python",
   "nbconvert_exporter": "python",
   "pygments_lexer": "ipython3",
   "version": "3.8.5"
  }
 },
 "nbformat": 4,
 "nbformat_minor": 1
}
