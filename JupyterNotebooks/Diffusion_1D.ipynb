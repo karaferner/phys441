{
 "cells": [
  {
   "cell_type": "markdown",
   "metadata": {
    "colab_type": "text",
    "id": "view-in-github"
   },
   "source": [
    "<a href=\"https://colab.research.google.com/github/brash99/phys441/blob/master/JupyterNotebooks/TravelingWaveConvection.ipynb\" target=\"_parent\"><img src=\"https://colab.research.google.com/assets/colab-badge.svg\" alt=\"Open In Colab\"/></a>"
   ]
  },
  {
   "cell_type": "markdown",
   "metadata": {},
   "source": [
    "## Diffusion in 1D\n",
    "\n",
    "### Central Difference Approximation of Second Order Derivatives\n",
    "\n",
    "\\begin{eqnarray}\n",
    "u_{i+1} & = & u_i + \\Delta x \\frac{\\partial u}{\\partial x} \\bigg|_i + \\frac{\\Delta x^2}{2} \\frac{\\partial^2 u}{\\partial x^2} \\bigg|_i + \\frac{\\Delta x^3}{6} \\frac{\\partial^3 u}{\\partial x^3} \\bigg|_i + \\frac{\\Delta x^4}{24} \\frac{\\partial^4 u}{\\partial x^4} \\bigg|_ih.o.t \\\\ \n",
    "u_{i-1} & = & u_i - \\Delta x \\frac{\\partial u}{\\partial x} \\bigg|_i + \\frac{\\Delta x^2}{2} \\frac{\\partial^2 u}{\\partial x^2} \\bigg|_i - \\frac{\\Delta x^3}{6} \\frac{\\partial^3 u}{\\partial x^3} \\bigg|_i + \\frac{\\Delta x^4}{24} \\frac{\\partial^4 u}{\\partial x^4} \\bigg|_i h.o.t \\\\\n",
    "\\end{eqnarray}\n",
    "\n",
    "Adding these two equations together, we arrive at:\n",
    "\n",
    "\\begin{eqnarray}\n",
    "\\frac{\\partial^2 u}{\\partial x^2} & = & \\frac{u_{i+1} - 2 u_i + u_{i-1}}{\\Delta x^2} +\n",
    "\\frac{\\Delta x^2}{12} \\frac{\\partial^4 u}{\\partial x^4} + h.o.t \\\\ \n",
    "\\end{eqnarray}\n",
    "\n",
    "### The Diffusion Equation\n",
    "\n",
    "\\begin{equation}\n",
    "\\frac{\\partial u}{\\partial t} - \\nu \\frac{\\partial^2 u}{\\partial x^2} = 0\n",
    "\\end{equation}\n",
    "\n",
    "where $\\nu$ is the viscosity.  As before, we use the forward difference for the time derivative, and the central difference approximation for the second order spatial derivative.  Why is this so?  Well, time moves $forward$, and so using the forward difference makes sense for the time derivative.  The central difference approximation is $isotropic$ in the forward and backward directions, and since normal physical diffusion is directionally isotropic (in typical physical systems), this also makes sense.\n",
    "\n",
    "\\begin{equation}\n",
    "\\frac{u_i^{n+1} -  u_i^n}{\\Delta t} - \\nu \\left( \\frac{u^n_{i+1} - 2 u^n_i + u^n_{i-1}}{\\Delta x^2} \\right) = 0\n",
    "\\end{equation}\n",
    "\n",
    "\\begin{equation}\n",
    "u_i^{n+1} =  u_i^n + \\frac{\\nu \\Delta t}{\\Delta x^2} \\left( u^n_{i+1} - 2 u^n_i + u^n_{i-1} \\right)\n",
    "\\end{equation}"
   ]
  },
  {
   "cell_type": "code",
   "execution_count": 1,
   "metadata": {
    "id": "j_o0pie1j61U"
   },
   "outputs": [],
   "source": [
    "# Remember: comments in python are denoted by the pound sign\n",
    "import numpy as np                            #here we load numpy\n",
    "from matplotlib import pyplot as plt     #here we load matplotlib\n",
    "import time, sys                         #and load some utilities"
   ]
  },
  {
   "cell_type": "code",
   "execution_count": 2,
   "metadata": {
    "id": "DsjQi5MfkKHC"
   },
   "outputs": [],
   "source": [
    "#this makes matplotlib plots appear in the notebook (instead of a separate window)\n",
    "%matplotlib inline                  "
   ]
  },
  {
   "cell_type": "code",
   "execution_count": 3,
   "metadata": {
    "id": "thUmpMTTkPBq"
   },
   "outputs": [
    {
     "name": "stdout",
     "output_type": "stream",
     "text": [
      "Stability constant = 0.2401\n",
      "Minimum number of timesteps = 1921\n"
     ]
    }
   ],
   "source": [
    "# We define the x-axis to start at x=0.0m and end at x=20.0m.\n",
    "# \n",
    "# We specify the number of steps in x (nx), and the number\n",
    "# of steps in t (nt), and calculate dx and dt based on these choices.\n",
    "\n",
    "xrange = 20.0\n",
    "trange = 24.0\n",
    "nx = 401  # try changing this number from 41 to 81 and Run All ... what happens?\n",
    "dx = xrange / (nx-1)\n",
    "nt = 4000    #nt is the number of timesteps we want to calculate\n",
    "dt = trange/ (nt-1)  #dt is the amount of time each timestep covers (delta t)\n",
    "\n",
    "viscosity = 0.1\n",
    "print (\"Stability constant = %0.4f\" % (viscosity*dt/dx**2))\n",
    "\n",
    "# stability for viscosity*dt/dx**2 <= 1/2\n",
    "dt_max = 0.5*dx**2/viscosity\n",
    "nt_min = trange/dt_max+1\n",
    "print (\"Minimum number of timesteps = %0.0f\" % nt_min)\n",
    "\n",
    "x = np.linspace(0,xrange,nx)\n",
    "\n",
    "pulseShapeChoice = 1"
   ]
  },
  {
   "cell_type": "code",
   "execution_count": 4,
   "metadata": {
    "id": "hSC2t4s3kTUw"
   },
   "outputs": [],
   "source": [
    "# Set the wavefunction equal to all ones, initially\n",
    "u = np.ones(nx)      #numpy function ones()\n",
    "\n",
    "if (pulseShapeChoice == 1):\n",
    "  # Test Case 1: Square Pulse\n",
    "  u[int(9.75 / dx):int(10.25 / dx + 1)] = 2  #setting u = 2 between 0.5 and 1\n",
    "else:\n",
    "  # Test Case 2:  Gaussian Pulse\n",
    "  mu = 10.0\n",
    "  sigma = 0.25\n",
    "  for i in range(len(u)):\n",
    "    u[i]=u[i]+np.exp(-1.0*(x[i]-mu)**2/sigma**2)\n"
   ]
  },
  {
   "cell_type": "code",
   "execution_count": 5,
   "metadata": {
    "colab": {
     "base_uri": "https://localhost:8080/",
     "height": 282
    },
    "id": "DxUL7BDwkZBg",
    "outputId": "3efc7e72-f130-44e9-ccb1-0af35c9bb40a"
   },
   "outputs": [
    {
     "name": "stdout",
     "output_type": "stream",
     "text": [
      "Integral =  11.0\n"
     ]
    },
    {
     "data": {
      "image/png": "[encoded data removed]",
      "text/plain": [
       "<Figure size 432x288 with 1 Axes>"
      ]
     },
     "metadata": {
      "needs_background": "light"
     },
     "output_type": "display_data"
    }
   ],
   "source": [
    "plt.plot(x, u)\n",
    "print (\"Integral = \",u.sum()-len(x))"
   ]
  },
  {
   "cell_type": "code",
   "execution_count": 6,
   "metadata": {
    "id": "nvo0TMCMkheZ"
   },
   "outputs": [],
   "source": [
    "#un = np.ones(nx) #initialize a temporary array\n",
    "\n",
    "for n in range(nt):  #loop for values of n from 0 to nt, so it will run nt times\n",
    "    un = u.copy() ##copy the existing values of u into un\n",
    "    for i in range(1, nx-1): ## you can try commenting this line and...\n",
    "        u[i] = un[i] + viscosity * dt / dx**2 * (un[i+1] - 2.0*un[i] + un[i-1])"
   ]
  },
  {
   "cell_type": "code",
   "execution_count": 7,
   "metadata": {
    "colab": {
     "base_uri": "https://localhost:8080/",
     "height": 282
    },
    "id": "MQ0dgbPmkjeN",
    "outputId": "170602c2-460b-4050-897b-4a0cea1641f7"
   },
   "outputs": [
    {
     "name": "stdout",
     "output_type": "stream",
     "text": [
      "Integral =  10.999883441938323\n"
     ]
    },
    {
     "data": {
      "image/png": "[encoded data removed]",
      "text/plain": [
       "<Figure size 432x288 with 1 Axes>"
      ]
     },
     "metadata": {
      "needs_background": "light"
     },
     "output_type": "display_data"
    }
   ],
   "source": [
    "plt.plot(x, u)\n",
    "\n",
    "print (\"Integral = \",u.sum()-len(x))"
   ]
  },
  {
   "cell_type": "code",
   "execution_count": 8,
   "metadata": {
    "colab": {
     "base_uri": "https://localhost:8080/",
     "height": 399
    },
    "id": "Z0xe0waXuN_5",
    "outputId": "1a96eee7-4bb6-46ee-821b-a70d35ac1cca"
   },
   "outputs": [
    {
     "name": "stdout",
     "output_type": "stream",
     "text": [
      "Stability parameter = 0.4995 \n",
      "nt_min = 1921\n",
      "Integral =  11.0\n",
      "Integral =  10.999884836263675\n",
      "Integral =  10.999884567011975\n",
      "Integral =  10.999884602457257\n",
      "Integral =  10.9998845963147\n",
      "Integral =  10.999884595838182\n",
      "Integral =  10.999884594592743\n"
     ]
    },
    {
     "data": {
      "image/png": "[encoded data removed]",
      "text/plain": [
       "<Figure size 432x288 with 1 Axes>"
      ]
     },
     "metadata": {
      "needs_background": "light"
     },
     "output_type": "display_data"
    }
   ],
   "source": [
    "xrange = 20.0\n",
    "trange = 24.0\n",
    "nx = 401  # try changing this number from 41 to 81 and Run All ... what happens?\n",
    "dx = xrange / (nx-1)\n",
    "nt = 1923    #nt is the number of timesteps we want to calculate\n",
    "dt = trange/ (nt-1)  #dt is the amount of time each timestep covers (delta t)\n",
    "\n",
    "print (\"Stability parameter = %0.4f \" % (viscosity*dt/dx**2))\n",
    "print (\"nt_min = %0.0f\" % (2*viscosity*trange*(nx-1)**2/xrange**2+1))\n",
    "\n",
    "u = np.ones(nx)      #numpy function ones()\n",
    "x = np.linspace(0, xrange, nx)\n",
    "\n",
    "if (pulseShapeChoice == 1):\n",
    "  # Test Case 1: Square Pulse\n",
    "  u[int(9.75 / dx):int(10.25 / dx + 1)] = 2  #setting u = 2 between 0.5 and 1\n",
    "else:\n",
    "  # Test Case 2:  Gaussian Pulse\n",
    "  mu = 10.00\n",
    "  sigma = 0.25\n",
    "  for i in range(len(u)):\n",
    "    u[i]=u[i]+np.exp(-1.0*(x[i]-mu)**2/sigma**2)\n",
    "\n",
    "plt.plot(x, u)\n",
    "print (\"Integral = \",u.sum()-len(x))\n",
    "\n",
    "for ntt in range(nt-3,nt+3):\n",
    "  dt = trange/(ntt-1)\n",
    "  u = np.ones(nx)      #numpy function ones()\n",
    "  if (pulseShapeChoice == 1):\n",
    "    u[int(9.75 / dx):int(10.25 / dx + 1)] = 2  #setting u = 2 between 0.5 and 1\n",
    "  else:\n",
    "    for i in range(len(u)):\n",
    "      u[i]=u[i]+np.exp(-1.0*(x[i]-mu)**2/sigma**2)\n",
    "  for n in range(ntt):  #loop for values of n from 0 to nt, so it will run nt times\n",
    "    un = u.copy() ##copy the existing values of u into un\n",
    "    for i in range(1, nx-1): ## you can try commenting this line and...\n",
    "        u[i] = un[i] + viscosity * dt / dx**2 * (un[i+1] - 2.0*un[i] + un[i-1])\n",
    "  plt.plot(x, u)\n",
    "  print (\"Integral = \",u.sum()-len(x))"
   ]
  },
  {
   "cell_type": "code",
   "execution_count": 9,
   "metadata": {
    "colab": {
     "base_uri": "https://localhost:8080/",
     "height": 433
    },
    "id": "8iXwFiKXgXJS",
    "outputId": "28f575c7-6820-4e6b-8da0-a6ecef9d5427"
   },
   "outputs": [
    {
     "name": "stdout",
     "output_type": "stream",
     "text": [
      "Integral =  10.999884836263675\n",
      "Integral =  10.999884567011975\n",
      "Integral =  10.999884602457257\n",
      "Integral =  10.9998845963147\n",
      "Integral =  10.999884595838182\n",
      "Integral =  10.999884594592743\n"
     ]
    },
    {
     "data": {
      "image/png": "[encoded data removed]",
      "text/plain": [
       "<Figure size 432x288 with 1 Axes>"
      ]
     },
     "metadata": {
      "needs_background": "light"
     },
     "output_type": "display_data"
    }
   ],
   "source": [
    "for ntt in range(nt-3,nt+3):\n",
    "  dt = trange/(ntt-1)\n",
    "  u = np.ones(nx)      #numpy function ones()\n",
    "  if (pulseShapeChoice == 1):\n",
    "    u[int(9.75 / dx):int(10.25 / dx + 1)] = 2  #setting u = 2 between 0.5 and 1\n",
    "  else:\n",
    "    for i in range(len(u)):\n",
    "      u[i]=u[i]+np.exp(-1.0*(x[i]-mu)**2/sigma**2)\n",
    "  for n in range(ntt):  #loop for values of n from 0 to nt, so it will run nt times\n",
    "    un = u.copy() ##copy the existing values of u into un\n",
    "    for i in range(1, nx-1): ## you can try commenting this line and...\n",
    "        u[i] = un[i] + viscosity * dt / dx**2 * (un[i+1] - 2.0*un[i] + un[i-1])\n",
    "  plt.plot(x, u)\n",
    "  print (\"Integral = \",u.sum()-len(x))"
   ]
  },
  {
   "cell_type": "code",
   "execution_count": null,
   "metadata": {
    "id": "e3jFHnvZb2e6"
   },
   "outputs": [],
   "source": []
  },
  {
   "cell_type": "code",
   "execution_count": null,
   "metadata": {
    "id": "V8261kZ96I6b"
   },
   "outputs": [],
   "source": []
  }
 ],
 "metadata": {
  "colab": {
   "authorship_tag": "ABX9TyMxCMXptwum57XeQ829fBfV",
   "include_colab_link": true,
   "name": "TravelingWaveConvection.ipynb",
   "provenance": []
  },
  "kernelspec": {
   "display_name": "Python 3",
   "language": "python",
   "name": "python3"
  },
  "language_info": {
   "codemirror_mode": {
    "name": "ipython",
    "version": 3
   },
   "file_extension": ".py",
   "mimetype": "text/x-python",
   "name": "python",
   "nbconvert_exporter": "python",
   "pygments_lexer": "ipython3",
   "version": "3.6.8"
  }
 },
 "nbformat": 4,
 "nbformat_minor": 4
}
