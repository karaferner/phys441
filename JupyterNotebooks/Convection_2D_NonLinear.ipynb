{
 "cells": [
  {
   "cell_type": "markdown",
   "metadata": {
    "colab_type": "text",
    "id": "view-in-github"
   },
   "source": [
    "<a href=\"https://colab.research.google.com/github/brash99/phys441/blob/master/TravelingWave.ipynb\" target=\"_parent\"><img src=\"https://colab.research.google.com/assets/colab-badge.svg\" alt=\"Open In Colab\"/></a>"
   ]
  },
  {
   "cell_type": "markdown",
   "metadata": {},
   "source": [
    "## Convection in 2D\n",
    "\n",
    "\n",
    "### The 2D Convection Equation\n",
    "\n",
    "\\begin{equation}\n",
    "\\frac{\\partial u}{\\partial t} + u \\frac{\\partial u}{\\partial x} + v \\frac{\\partial u}{\\partial y}= 0\n",
    "\\end{equation}\n",
    "\n",
    "\\begin{equation}\n",
    "\\frac{\\partial v}{\\partial t} + u \\frac{\\partial v}{\\partial x} + v \\frac{\\partial v}{\\partial y}= 0\n",
    "\\end{equation}\n",
    "\n",
    "We use the forward difference for the time derivative, and the backward difference approximation for the first order spatial derivatives. \n",
    "\n",
    "\\begin{equation}\n",
    "\\frac{u_{ij}^{n+1} -  u_{ij}^n}{\\Delta t} + u_{ij}^n \\left( \\frac{u^n_{ij} - u^n_{(i-1)j}}{\\Delta x} \\right) +  v_{ij}^n \\left( \\frac{u^n_{ij} - u^n_{i(j-1)}}{\\Delta y} \\right) = 0\n",
    "\\end{equation}\n",
    "\n",
    "\\begin{equation}\n",
    "\\frac{v_{ij}^{n+1} -  v_{ij}^n}{\\Delta t} + u_{ij}^n \\left( \\frac{v^n_{ij} - v^n_{(i-1)j}}{\\Delta x} \\right) +  v_{ij}^n \\left( \\frac{v^n_{ij} - v^n_{i(j-1)}}{\\Delta y} \\right) = 0\n",
    "\\end{equation}\n",
    "\n",
    "Rearranging, we end up with two coupled equations:\n",
    "\n",
    "\\begin{equation}\n",
    "u_{ij}^{n+1} =  u_{ij}^n + \\frac{\\Delta t}{\\Delta x} u_{ij}^n \\left( u^n_{ij} - u^n_{(i-1)j} \\right) + v_{ij}^n \\frac{ \\Delta t}{\\Delta y} \\left( u^n_{ij} - u^n_{(i-1)j} \\right)\n",
    "\\end{equation}\n",
    "\n",
    "\\begin{equation}\n",
    "v_{ij}^{n+1} =  v_{ij}^n + \\frac{\\Delta t}{\\Delta x} u_{ij}^n \\left( v^n_{ij} - v^n_{(i-1)j} \\right) + v_{ij}^n \\frac{ \\Delta t}{\\Delta y} \\left( v^n_{ij} - v^n_{(i-1)j} \\right)\n",
    "\\end{equation}"
   ]
  },
  {
   "cell_type": "code",
   "execution_count": 4,
   "metadata": {
    "id": "j_o0pie1j61U"
   },
   "outputs": [],
   "source": [
    "# Remember: comments in python are denoted by the pound sign\n",
    "import numpy as np                            #here we load numpy\n",
    "from matplotlib import pyplot as plt     #here we load matplotlib\n",
    "from matplotlib import cm as cm          #here we load matplotlib\n",
    "import time, sys                         #and load some utilities"
   ]
  },
  {
   "cell_type": "code",
   "execution_count": 5,
   "metadata": {
    "id": "DsjQi5MfkKHC"
   },
   "outputs": [],
   "source": [
    "#this makes matplotlib plots appear in the notebook (instead of a separate window)\n",
    "%matplotlib inline                  "
   ]
  },
  {
   "cell_type": "code",
   "execution_count": 6,
   "metadata": {
    "colab": {
     "base_uri": "https://localhost:8080/"
    },
    "id": "thUmpMTTkPBq",
    "outputId": "39f53e1e-b9be-459d-ad11-89d6e5860923"
   },
   "outputs": [
    {
     "ename": "NameError",
     "evalue": "name 'c' is not defined",
     "output_type": "error",
     "traceback": [
      "\u001b[0;31m---------------------------------------------------------------------------\u001b[0m",
      "\u001b[0;31mNameError\u001b[0m                                 Traceback (most recent call last)",
      "\u001b[0;32m<ipython-input-6-85a0256111ff>\u001b[0m in \u001b[0;36m<module>\u001b[0;34m\u001b[0m\n\u001b[1;32m     16\u001b[0m \u001b[0my\u001b[0m \u001b[0;34m=\u001b[0m \u001b[0mnp\u001b[0m\u001b[0;34m.\u001b[0m\u001b[0mlinspace\u001b[0m\u001b[0;34m(\u001b[0m\u001b[0;36m0\u001b[0m\u001b[0;34m,\u001b[0m\u001b[0myrange\u001b[0m\u001b[0;34m,\u001b[0m\u001b[0mny\u001b[0m\u001b[0;34m)\u001b[0m\u001b[0;34m\u001b[0m\u001b[0;34m\u001b[0m\u001b[0m\n\u001b[1;32m     17\u001b[0m \u001b[0;34m\u001b[0m\u001b[0m\n\u001b[0;32m---> 18\u001b[0;31m \u001b[0mprint\u001b[0m \u001b[0;34m(\u001b[0m\u001b[0;34m\"Stability criterion x = \"\u001b[0m\u001b[0;34m,\u001b[0m\u001b[0mc\u001b[0m\u001b[0;34m*\u001b[0m\u001b[0mdt\u001b[0m\u001b[0;34m/\u001b[0m\u001b[0mdx\u001b[0m\u001b[0;34m)\u001b[0m\u001b[0;34m\u001b[0m\u001b[0;34m\u001b[0m\u001b[0m\n\u001b[0m\u001b[1;32m     19\u001b[0m \u001b[0mprint\u001b[0m \u001b[0;34m(\u001b[0m\u001b[0;34m\"Stability criterion y = \"\u001b[0m\u001b[0;34m,\u001b[0m\u001b[0mc\u001b[0m\u001b[0;34m*\u001b[0m\u001b[0mdt\u001b[0m\u001b[0;34m/\u001b[0m\u001b[0mdy\u001b[0m\u001b[0;34m)\u001b[0m\u001b[0;34m\u001b[0m\u001b[0;34m\u001b[0m\u001b[0m\n",
      "\u001b[0;31mNameError\u001b[0m: name 'c' is not defined"
     ]
    }
   ],
   "source": [
    "xrange = 2.0\n",
    "yrange = 2.0\n",
    "\n",
    "nx = 81\n",
    "ny = 81\n",
    "nt = 100\n",
    "\n",
    "dx = xrange / (nx-1)\n",
    "dy = xrange / (nx-1)\n",
    "sigma = .2\n",
    "dt = sigma * dx\n",
    "\n",
    "trange = dt*(nt-1)\n",
    "\n",
    "x = np.linspace(0,xrange,nx)\n",
    "y = np.linspace(0,yrange,ny)\n",
    "\n",
    "print (\"Stability criterion x = \",c*dt/dx)\n",
    "print (\"Stability criterion y = \",c*dt/dy)"
   ]
  },
  {
   "cell_type": "code",
   "execution_count": null,
   "metadata": {
    "id": "hSC2t4s3kTUw"
   },
   "outputs": [],
   "source": [
    "# Set the wavefunction equal to all ones, initially\n",
    "u = np.ones((ny, nx)) \n",
    "v = np.ones((ny, nx))\n",
    "\n",
    "# Test Case 1: Rectangular Pulse\n",
    "u[int(.5 / dx):int(1 / dx + 1),int(.5 / dx):int(1 / dx + 1)] = 2  #setting u = 2 between 0.5 and 1 in each of x and y\n",
    "v[int(.5 / dx):int(1 / dx + 1),int(.5 / dx):int(1 / dx + 1)] = 2  #setting u = 2 between 0.5 and 1 in each of x and y"
   ]
  },
  {
   "cell_type": "code",
   "execution_count": null,
   "metadata": {
    "colab": {
     "base_uri": "https://localhost:8080/",
     "height": 265
    },
    "id": "DxUL7BDwkZBg",
    "outputId": "eaf85d68-2fc9-47ca-ce35-92c42a9279c8"
   },
   "outputs": [],
   "source": [
    "from mpl_toolkits.mplot3d import Axes3D\n",
    "\n",
    "fig = plt.figure(figsize=(11, 7), dpi=100)  # first, create a figure object of a certain size and resolutin\n",
    "ax = fig.gca(projection='3d')               # next, create an axes object, and specify that it is 3D       \n",
    "X, Y = np.meshgrid(x, y)                    # next, convert the x and y arrays into a 2D meshgrid for plotting        \n",
    "surf = ax.plot_surface(X, Y, u[:],cmap=cm.viridis, rstride=2, cstride=2)          # finally, plot the surface.\n",
    "ax.set_xlabel('$x$')\n",
    "ax.set_ylabel('$y$');"
   ]
  },
  {
   "cell_type": "code",
   "execution_count": null,
   "metadata": {
    "id": "nvo0TMCMkheZ"
   },
   "outputs": [],
   "source": [
    "for n in range(nt + 1): ##loop across number of time steps\n",
    "    un = u.copy()\n",
    "    vn = v.copy()\n",
    "    u[1:, 1:] = (un[1:, 1:] - \n",
    "                 (un[1:, 1:] * dt / dx * (un[1:, 1:] - un[1:, :-1])) -\n",
    "                  vn[1:, 1:] * dt / dy * (un[1:, 1:] - un[:-1, 1:]))\n",
    "    v[1:, 1:] = (vn[1:, 1:] -\n",
    "                 (un[1:, 1:] * dt / dx * (vn[1:, 1:] - vn[1:, :-1])) -\n",
    "                 vn[1:, 1:] * dt / dy * (vn[1:, 1:] - vn[:-1, 1:]))\n",
    "    \n",
    "    u[0, :] = 1\n",
    "    u[-1, :] = 1\n",
    "    u[:, 0] = 1\n",
    "    u[:, -1] = 1\n",
    "    \n",
    "    v[0, :] = 1\n",
    "    v[-1, :] = 1\n",
    "    v[:, 0] = 1\n",
    "    v[:, -1] = 1"
   ]
  },
  {
   "cell_type": "code",
   "execution_count": null,
   "metadata": {
    "colab": {
     "base_uri": "https://localhost:8080/",
     "height": 265
    },
    "id": "MQ0dgbPmkjeN",
    "outputId": "8486bc26-03b5-4923-b66b-ef9feb4327f8"
   },
   "outputs": [],
   "source": [
    "fig = plt.figure(figsize=(11, 7), dpi=100)\n",
    "ax = fig.gca(projection='3d')\n",
    "surf2 = ax.plot_surface(X, Y, u[:],cmap=cm.viridis,rstride=2, cstride=2)\n",
    "ax.set_xlabel('$x$')\n",
    "ax.set_ylabel('$y$');"
   ]
  },
  {
   "cell_type": "code",
   "execution_count": null,
   "metadata": {
    "colab": {
     "base_uri": "https://localhost:8080/",
     "height": 298
    },
    "id": "Z0xe0waXuN_5",
    "outputId": "3464daa6-3a09-478b-eb9c-4c6f68a15f1b"
   },
   "outputs": [],
   "source": [
    "fig = plt.figure(figsize=(11, 7), dpi=100)\n",
    "ax = fig.gca(projection='3d')\n",
    "surf2 = ax.plot_surface(X, Y, v[:],cmap=cm.viridis, rstride=2, cstride=2)\n",
    "ax.set_xlabel('$x$')\n",
    "ax.set_ylabel('$y$');"
   ]
  },
  {
   "cell_type": "code",
   "execution_count": null,
   "metadata": {},
   "outputs": [],
   "source": []
  },
  {
   "cell_type": "code",
   "execution_count": null,
   "metadata": {},
   "outputs": [],
   "source": []
  }
 ],
 "metadata": {
  "colab": {
   "authorship_tag": "ABX9TyNt+F0c6h2szZWyIC0DwlmJ",
   "include_colab_link": true,
   "name": "TravelingWave.ipynb",
   "provenance": []
  },
  "kernelspec": {
   "display_name": "Python 3",
   "language": "python",
   "name": "python3"
  },
  "language_info": {
   "codemirror_mode": {
    "name": "ipython",
    "version": 3
   },
   "file_extension": ".py",
   "mimetype": "text/x-python",
   "name": "python",
   "nbconvert_exporter": "python",
   "pygments_lexer": "ipython3",
   "version": "3.8.5"
  }
 },
 "nbformat": 4,
 "nbformat_minor": 1
}
