{
 "cells": [
  {
   "cell_type": "markdown",
   "metadata": {
    "colab_type": "text",
    "id": "view-in-github"
   },
   "source": [
    "<a href=\"https://colab.research.google.com/github/brash99/phys441/blob/master/JupyterNotebooks/TravelingWaveConvection.ipynb\" target=\"_parent\"><img src=\"https://colab.research.google.com/assets/colab-badge.svg\" alt=\"Open In Colab\"/></a>"
   ]
  },
  {
   "cell_type": "markdown",
   "metadata": {},
   "source": [
    "## Diffusion and Convection in 1D\n",
    "\n",
    "### Burger's Equation\n",
    "\n",
    "\\begin{equation}\n",
    "\\frac{\\partial u}{\\partial t} + u\\frac{\\partial u}{\\partial x} - \\nu \\frac{\\partial^2 u}{\\partial x^2} = 0\n",
    "\\end{equation}\n",
    "\n",
    "where $\\nu$ is the viscosity.  As in the previous examples, we use the forward difference for the time derivative, the backward difference for the spatial first derivative, and the central difference for the spatial second derivative.\n",
    "\n",
    "\\begin{equation}\n",
    "\\frac{u_i^{n+1} -  u_i^n}{\\Delta t} + u^n_i \\left( \\frac{u^n_{i} - u^n_{i-1}}{\\Delta x} \\right) - \\nu \\left( \\frac{u^n_{i+1} - 2 u^n_i + u^n_{i-1}}{\\Delta x^2} \\right) = 0\n",
    "\\end{equation}\n",
    "\n",
    "\\begin{equation}\n",
    "u_i^{n+1} =  u_i^n - \\frac{\\Delta t}{\\Delta x} u_i^n \\left( u^n_{i} - u^n_{i-1} \\right) + \\frac{\\nu \\Delta t}{\\Delta x^2} \\left( u^n_{i+1} - 2 u^n_i + u^n_{i-1} \\right)\n",
    "\\end{equation}"
   ]
  },
  {
   "cell_type": "code",
   "execution_count": 1,
   "metadata": {
    "id": "j_o0pie1j61U"
   },
   "outputs": [],
   "source": [
    "# Remember: comments in python are denoted by the pound sign\n",
    "import numpy                            #here we load numpy\n",
    "from matplotlib import pyplot as plt     #here we load matplotlib\n",
    "import time, sys                         #and load some utilities"
   ]
  },
  {
   "cell_type": "code",
   "execution_count": 2,
   "metadata": {
    "id": "DsjQi5MfkKHC"
   },
   "outputs": [],
   "source": [
    "#this makes matplotlib plots appear in the notebook (instead of a separate window)\n",
    "%matplotlib inline                  "
   ]
  },
  {
   "cell_type": "code",
   "execution_count": 3,
   "metadata": {
    "id": "thUmpMTTkPBq"
   },
   "outputs": [
    {
     "name": "stdout",
     "output_type": "stream",
     "text": [
      "First stability constant = 0.0700\n",
      "Second stability constant = 0.3119\n",
      "First Term Minimum number of timesteps = 57\n",
      "Second Term Minimum number of timesteps = 375\n"
     ]
    }
   ],
   "source": [
    "# We define the x-axis to start at x=0.0m and end at x=20.0m.\n",
    "# \n",
    "# We specify the number of steps in x (nx), and the number\n",
    "# of steps in t (nt), and calculate dx and dt based on these choices.\n",
    "\n",
    "xrange = 2*numpy.pi\n",
    "nx = 401  # try changing this number from 41 to 81 and Run All ... what happens?\n",
    "dx = xrange / (nx-1)\n",
    "nt = 400    #nt is the number of timesteps we want to calculate\n",
    "\n",
    "# Courant condition\n",
    "viscosity = 0.07\n",
    "dt = dx * viscosity  #dt is the amount of time each timestep covers (delta t)\n",
    "trange = nt*dt\n",
    "\n",
    "print (\"First stability constant = %0.4f\" % (dt/dx))\n",
    "print (\"Second stability constant = %0.4f\" % (viscosity*dt/dx**2))\n",
    "\n",
    "# stability for dt/dx <= 1/2\n",
    "dt_max = 0.5*dx\n",
    "nt_min1 = trange/dt_max+1\n",
    "print (\"First Term Minimum number of timesteps = %0.0f\" % nt_min1)\n",
    "\n",
    "# stability for viscosity*dt/dx**2 <= 1/3\n",
    "dt_max = 1.0/3.0*dx**2/viscosity\n",
    "nt_min2 = trange/dt_max+1\n",
    "print (\"Second Term Minimum number of timesteps = %0.0f\" % nt_min2)\n",
    "\n",
    "pulseShapeChoice = 3"
   ]
  },
  {
   "cell_type": "code",
   "execution_count": 4,
   "metadata": {},
   "outputs": [
    {
     "name": "stdout",
     "output_type": "stream",
     "text": [
      "3.49170664206445\n"
     ]
    },
    {
     "ename": "NameError",
     "evalue": "name 'np' is not defined",
     "output_type": "error",
     "traceback": [
      "\u001b[0;31m---------------------------------------------------------------------------\u001b[0m",
      "\u001b[0;31mNameError\u001b[0m                                 Traceback (most recent call last)",
      "\u001b[0;32m<ipython-input-4-bbd1cdc10a6c>\u001b[0m in \u001b[0;36m<module>\u001b[0;34m\u001b[0m\n\u001b[1;32m     18\u001b[0m \u001b[0mprint\u001b[0m\u001b[0;34m(\u001b[0m\u001b[0mufunc\u001b[0m\u001b[0;34m(\u001b[0m\u001b[0;36m1\u001b[0m\u001b[0;34m,\u001b[0m \u001b[0;36m4\u001b[0m\u001b[0;34m,\u001b[0m \u001b[0;36m3\u001b[0m\u001b[0;34m)\u001b[0m\u001b[0;34m)\u001b[0m\u001b[0;34m\u001b[0m\u001b[0;34m\u001b[0m\u001b[0m\n\u001b[1;32m     19\u001b[0m \u001b[0;34m\u001b[0m\u001b[0m\n\u001b[0;32m---> 20\u001b[0;31m \u001b[0mxb\u001b[0m \u001b[0;34m=\u001b[0m \u001b[0mnp\u001b[0m\u001b[0;34m.\u001b[0m\u001b[0mlinspace\u001b[0m\u001b[0;34m(\u001b[0m\u001b[0;36m0\u001b[0m\u001b[0;34m,\u001b[0m \u001b[0mxrange\u001b[0m\u001b[0;34m,\u001b[0m \u001b[0mnx\u001b[0m\u001b[0;34m)\u001b[0m\u001b[0;34m\u001b[0m\u001b[0;34m\u001b[0m\u001b[0m\n\u001b[0m\u001b[1;32m     21\u001b[0m \u001b[0mu_analytical\u001b[0m \u001b[0;34m=\u001b[0m \u001b[0mnumpy\u001b[0m\u001b[0;34m.\u001b[0m\u001b[0masarray\u001b[0m\u001b[0;34m(\u001b[0m\u001b[0;34m[\u001b[0m\u001b[0mufunc\u001b[0m\u001b[0;34m(\u001b[0m\u001b[0mnt\u001b[0m\u001b[0;34m*\u001b[0m\u001b[0mdt\u001b[0m\u001b[0;34m,\u001b[0m \u001b[0mxa\u001b[0m\u001b[0;34m,\u001b[0m \u001b[0mviscosity\u001b[0m\u001b[0;34m)\u001b[0m \u001b[0;32mfor\u001b[0m \u001b[0mxa\u001b[0m \u001b[0;32min\u001b[0m \u001b[0mxb\u001b[0m\u001b[0;34m]\u001b[0m\u001b[0;34m)\u001b[0m\u001b[0;34m\u001b[0m\u001b[0;34m\u001b[0m\u001b[0m\n",
      "\u001b[0;31mNameError\u001b[0m: name 'np' is not defined"
     ]
    }
   ],
   "source": [
    "# Analytical Solution\n",
    "\n",
    "import sympy\n",
    "\n",
    "from sympy import init_printing\n",
    "init_printing(use_latex=True)\n",
    "\n",
    "xa, nu, t = sympy.symbols('xa nu t')\n",
    "phi = (sympy.exp(-(xa - 4 * t)**2 / (4 * nu * (t + 1))) +\n",
    "       sympy.exp(-(xa - 4 * t - 2 * sympy.pi)**2 / (4 * nu * (t + 1))))\n",
    "\n",
    "phiprime = phi.diff(xa)\n",
    "\n",
    "from sympy.utilities.lambdify import lambdify\n",
    "\n",
    "u = -2 * nu * (phiprime / phi) + 4\n",
    "ufunc = lambdify((t, xa, nu), u)\n",
    "print(ufunc(1, 4, 3))\n",
    "\n",
    "xb = np.linspace(0, xrange, nx)\n",
    "u_analytical = numpy.asarray([ufunc(nt*dt, xa, viscosity) for xa in xb])"
   ]
  },
  {
   "cell_type": "code",
   "execution_count": null,
   "metadata": {
    "id": "hSC2t4s3kTUw"
   },
   "outputs": [],
   "source": [
    "# Set the wavefunction equal to all ones, initially\n",
    "\n",
    "x = np.linspace(0,xrange,nx)\n",
    "\n",
    "if (pulseShapeChoice == 1):\n",
    "  # Test Case 1: Square Pulse\n",
    "  u = np.ones(nx)      #numpy function ones()\n",
    "  u[int((np.pi-0.1)/dx):int((np.pi+0.1)/dx + 1)] = 2  #setting u = 2 between 0.5 and 1\n",
    "else: \n",
    "    if (pulseShapeChoice == 2):\n",
    "        # Test Case 2:  Gaussian Pulse\n",
    "        u = np.ones(nx)      #numpy function ones()\n",
    "        mu = np.pi\n",
    "        sigma = 0.1\n",
    "        for i in range(len(u)):\n",
    "            u[i]=u[i]+np.exp(-1.0*(x[i]-mu)**2/sigma**2)\n",
    "    else:\n",
    "        u = np.zeros(nx)      #numpy function ones()\n",
    "        for i in range(len(u)):\n",
    "            t1 = np.exp(-1.0*x[i]**2/(4.0*viscosity))\n",
    "            t2 = np.exp(-1.0*(x[i]-2.0*np.pi)**2/(4.0*viscosity))\n",
    "            u[i] = (x[i]*t1+(x[i]-2.0*np.pi)*t2)/(t1+t2)+4.0"
   ]
  },
  {
   "cell_type": "code",
   "execution_count": null,
   "metadata": {
    "colab": {
     "base_uri": "https://localhost:8080/",
     "height": 282
    },
    "id": "DxUL7BDwkZBg",
    "outputId": "3efc7e72-f130-44e9-ccb1-0af35c9bb40a"
   },
   "outputs": [],
   "source": [
    "plt.plot(x, u, '.-')\n",
    "print (\"Integral = \",u.sum()-4.0*len(x))"
   ]
  },
  {
   "cell_type": "code",
   "execution_count": null,
   "metadata": {
    "id": "nvo0TMCMkheZ"
   },
   "outputs": [],
   "source": [
    "plt.plot(x, u, '.-')\n",
    "\n",
    "for n in range(nt):  #loop for values of n from 0 to nt, so it will run nt times\n",
    "    un = u.copy() ##copy the existing values of u into un\n",
    "    for i in range(1, nx-1): ## you can try commenting this line and...\n",
    "        u[i] = un[i] - dt/dx*un[i]*(un[i]-un[i-1]) + viscosity * dt / dx**2 * (un[i+1] - 2.0*un[i] + un[i-1])\n",
    "    u[0] = un[0] - dt/dx*un[0]*(un[0]-un[-2]) + viscosity * dt / dx**2 * (un[1] - 2.0*un[0] + un[-2])\n",
    "    u[-1] = un[0]\n",
    "    \n",
    "plt.plot(x, u, '.-')\n",
    "print (\"Integral = \",u.sum()-4.0*len(x))\n",
    "plt.plot(x, u_analytical, label='Analytical')"
   ]
  },
  {
   "cell_type": "code",
   "execution_count": null,
   "metadata": {},
   "outputs": [],
   "source": []
  }
 ],
 "metadata": {
  "colab": {
   "authorship_tag": "ABX9TyMxCMXptwum57XeQ829fBfV",
   "include_colab_link": true,
   "name": "TravelingWaveConvection.ipynb",
   "provenance": []
  },
  "kernelspec": {
   "display_name": "Python 3",
   "language": "python",
   "name": "python3"
  },
  "language_info": {
   "codemirror_mode": {
    "name": "ipython",
    "version": 3
   },
   "file_extension": ".py",
   "mimetype": "text/x-python",
   "name": "python",
   "nbconvert_exporter": "python",
   "pygments_lexer": "ipython3",
   "version": "3.8.5"
  }
 },
 "nbformat": 4,
 "nbformat_minor": 1
}
